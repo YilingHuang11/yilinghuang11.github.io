{
 "cells": [
  {
   "cell_type": "markdown",
   "metadata": {},
   "source": [
    "# Problem Statement "
   ]
  },
  {
   "cell_type": "markdown",
   "metadata": {},
   "source": [
    "I am choosing this topic as I have heard a lot of people suffering from mental health issues some even commit suicide due to Covid 19 pandemic and would like to understand any trends across countries for suicide rate. The data that is quite easy to understand and neatly grouped so I thought it would make analysis and deriving insight clearer than some of the other sets on populations that are available publicly. \n",
    "\n",
    "In this project, I would like to \n",
    "* explore the relationship between suicide rate and other variables by some visualizations. \n",
    "* use Machine Learning algorithms to predict suicide rates. \n",
    "* compare which model performs better."
   ]
  },
  {
   "cell_type": "markdown",
   "metadata": {},
   "source": [
    "# Dataset Description \n",
    "I searched for suicide rate data set in Kaggle and found a complied dataset which was pulled from four other datasets linked by time and place. It contains **27,820 records and 12 columns**, including country, year, sex, age group, count of suicides, population, suicide rate, country-year composite key, HDI（Human Development Index） for year, gdp_for_year, gdp_per_capita, generation (based on age grouping average).\n",
    "\n",
    "\n",
    "The data chosen provides many dimensions and measures along which to conduct analysis such as population of each country each year, further broken down into population of different age groups. The GDP per capita is also available, along with Gender.\n",
    "\n",
    "## Limitations\n",
    "* Not all countries provided data\n",
    "* Just 3 countries in Africa provided data\n",
    "* Some large population country (eg. China, India, Indonesia, etc.) didn’t provide data\n",
    "\n",
    "**data source: https://www.kaggle.com/russellyates88/suicide-rates-overview-1985-to-2016**"
   ]
  },
  {
   "cell_type": "markdown",
   "metadata": {},
   "source": [
    "# Data cleaning \n",
    "- ## Load datasets"
   ]
  },
  {
   "cell_type": "code",
   "execution_count": 2,
   "metadata": {},
   "outputs": [],
   "source": [
    "# import necesary libraries\n",
    "import pandas as pd\n",
    "import numpy as np\n",
    "import matplotlib\n",
    "import matplotlib.pyplot as plt\n",
    "import pycountry\n",
    "import pycountry_convert as pc\n",
    "import seaborn as sns\n",
    "from statistics import mean\n",
    "from colour import Color\n",
    "import statsmodels.formula.api as smf\n",
    "from statsmodels.stats.outliers_influence import variance_inflation_factor\n",
    "import sklearn\n",
    "from sklearn.linear_model import LinearRegression\n",
    "from sklearn.preprocessing import LabelEncoder\n",
    "from sklearn.preprocessing import StandardScaler\n",
    "from sklearn.model_selection import train_test_split\n",
    "from sklearn.model_selection import cross_validate\n",
    "from sklearn.model_selection import cross_val_score\n",
    "from sklearn.metrics import mean_squared_error\n",
    "from mlxtend.feature_selection import SequentialFeatureSelector as SFS\n",
    "from sklearn.neighbors import KNeighborsRegressor\n",
    "from sklearn.model_selection import GridSearchCV\n",
    "\n",
    "# read file\n",
    "suicide_rate = pd.read_csv(\n",
    "    \"/Users/yiling/Desktop/COMP-4254-0 - Adv Topics Data Analytics /Project/Suicide Rates Overview 1985 to 2016.csv\")"
   ]
  },
  {
   "cell_type": "code",
   "execution_count": 3,
   "metadata": {},
   "outputs": [
    {
     "data": {
      "text/html": [
       "<div>\n",
       "<style scoped>\n",
       "    .dataframe tbody tr th:only-of-type {\n",
       "        vertical-align: middle;\n",
       "    }\n",
       "\n",
       "    .dataframe tbody tr th {\n",
       "        vertical-align: top;\n",
       "    }\n",
       "\n",
       "    .dataframe thead th {\n",
       "        text-align: right;\n",
       "    }\n",
       "</style>\n",
       "<table border=\"1\" class=\"dataframe\">\n",
       "  <thead>\n",
       "    <tr style=\"text-align: right;\">\n",
       "      <th></th>\n",
       "      <th>country</th>\n",
       "      <th>year</th>\n",
       "      <th>sex</th>\n",
       "      <th>age</th>\n",
       "      <th>suicides_no</th>\n",
       "      <th>population</th>\n",
       "      <th>suicides/100k pop</th>\n",
       "      <th>country-year</th>\n",
       "      <th>HDI for year</th>\n",
       "      <th>gdp_for_year ($)</th>\n",
       "      <th>gdp_per_capita ($)</th>\n",
       "      <th>generation</th>\n",
       "    </tr>\n",
       "  </thead>\n",
       "  <tbody>\n",
       "    <tr>\n",
       "      <th>0</th>\n",
       "      <td>Albania</td>\n",
       "      <td>1987</td>\n",
       "      <td>male</td>\n",
       "      <td>15-24 years</td>\n",
       "      <td>21</td>\n",
       "      <td>312900</td>\n",
       "      <td>6.71</td>\n",
       "      <td>Albania1987</td>\n",
       "      <td>NaN</td>\n",
       "      <td>2,156,624,900</td>\n",
       "      <td>796</td>\n",
       "      <td>Generation X</td>\n",
       "    </tr>\n",
       "    <tr>\n",
       "      <th>1</th>\n",
       "      <td>Albania</td>\n",
       "      <td>1987</td>\n",
       "      <td>male</td>\n",
       "      <td>35-54 years</td>\n",
       "      <td>16</td>\n",
       "      <td>308000</td>\n",
       "      <td>5.19</td>\n",
       "      <td>Albania1987</td>\n",
       "      <td>NaN</td>\n",
       "      <td>2,156,624,900</td>\n",
       "      <td>796</td>\n",
       "      <td>Silent</td>\n",
       "    </tr>\n",
       "    <tr>\n",
       "      <th>2</th>\n",
       "      <td>Albania</td>\n",
       "      <td>1987</td>\n",
       "      <td>female</td>\n",
       "      <td>15-24 years</td>\n",
       "      <td>14</td>\n",
       "      <td>289700</td>\n",
       "      <td>4.83</td>\n",
       "      <td>Albania1987</td>\n",
       "      <td>NaN</td>\n",
       "      <td>2,156,624,900</td>\n",
       "      <td>796</td>\n",
       "      <td>Generation X</td>\n",
       "    </tr>\n",
       "    <tr>\n",
       "      <th>3</th>\n",
       "      <td>Albania</td>\n",
       "      <td>1987</td>\n",
       "      <td>male</td>\n",
       "      <td>75+ years</td>\n",
       "      <td>1</td>\n",
       "      <td>21800</td>\n",
       "      <td>4.59</td>\n",
       "      <td>Albania1987</td>\n",
       "      <td>NaN</td>\n",
       "      <td>2,156,624,900</td>\n",
       "      <td>796</td>\n",
       "      <td>G.I. Generation</td>\n",
       "    </tr>\n",
       "    <tr>\n",
       "      <th>4</th>\n",
       "      <td>Albania</td>\n",
       "      <td>1987</td>\n",
       "      <td>male</td>\n",
       "      <td>25-34 years</td>\n",
       "      <td>9</td>\n",
       "      <td>274300</td>\n",
       "      <td>3.28</td>\n",
       "      <td>Albania1987</td>\n",
       "      <td>NaN</td>\n",
       "      <td>2,156,624,900</td>\n",
       "      <td>796</td>\n",
       "      <td>Boomers</td>\n",
       "    </tr>\n",
       "  </tbody>\n",
       "</table>\n",
       "</div>"
      ],
      "text/plain": [
       "   country  year     sex          age  suicides_no  population  \\\n",
       "0  Albania  1987    male  15-24 years           21      312900   \n",
       "1  Albania  1987    male  35-54 years           16      308000   \n",
       "2  Albania  1987  female  15-24 years           14      289700   \n",
       "3  Albania  1987    male    75+ years            1       21800   \n",
       "4  Albania  1987    male  25-34 years            9      274300   \n",
       "\n",
       "   suicides/100k pop country-year  HDI for year  gdp_for_year ($)   \\\n",
       "0               6.71  Albania1987           NaN      2,156,624,900   \n",
       "1               5.19  Albania1987           NaN      2,156,624,900   \n",
       "2               4.83  Albania1987           NaN      2,156,624,900   \n",
       "3               4.59  Albania1987           NaN      2,156,624,900   \n",
       "4               3.28  Albania1987           NaN      2,156,624,900   \n",
       "\n",
       "   gdp_per_capita ($)       generation  \n",
       "0                 796     Generation X  \n",
       "1                 796           Silent  \n",
       "2                 796     Generation X  \n",
       "3                 796  G.I. Generation  \n",
       "4                 796          Boomers  "
      ]
     },
     "execution_count": 3,
     "metadata": {},
     "output_type": "execute_result"
    }
   ],
   "source": [
    "# the first five rows of the dataset\n",
    "suicide_rate.head()"
   ]
  },
  {
   "cell_type": "code",
   "execution_count": 4,
   "metadata": {
    "scrolled": true
   },
   "outputs": [
    {
     "name": "stdout",
     "output_type": "stream",
     "text": [
      "<class 'pandas.core.frame.DataFrame'>\n",
      "RangeIndex: 27820 entries, 0 to 27819\n",
      "Data columns (total 12 columns):\n",
      " #   Column              Non-Null Count  Dtype  \n",
      "---  ------              --------------  -----  \n",
      " 0   country             27820 non-null  object \n",
      " 1   year                27820 non-null  int64  \n",
      " 2   sex                 27820 non-null  object \n",
      " 3   age                 27820 non-null  object \n",
      " 4   suicides_no         27820 non-null  int64  \n",
      " 5   population          27820 non-null  int64  \n",
      " 6   suicides/100k pop   27820 non-null  float64\n",
      " 7   country-year        27820 non-null  object \n",
      " 8   HDI for year        8364 non-null   float64\n",
      " 9    gdp_for_year ($)   27820 non-null  object \n",
      " 10  gdp_per_capita ($)  27820 non-null  int64  \n",
      " 11  generation          27820 non-null  object \n",
      "dtypes: float64(2), int64(4), object(6)\n",
      "memory usage: 2.5+ MB\n"
     ]
    }
   ],
   "source": [
    "# get basic dataframe information\n",
    "suicide_rate.info()"
   ]
  },
  {
   "cell_type": "markdown",
   "metadata": {},
   "source": [
    "**Insight**\n",
    "* A lot of values are missing in **HDI for year** from the basic info. Notice that **gdp_for_year ($)** is **object type** by default which should be **numeric**. "
   ]
  },
  {
   "cell_type": "markdown",
   "metadata": {},
   "source": [
    "- ## Standardize the column name"
   ]
  },
  {
   "cell_type": "markdown",
   "metadata": {},
   "source": [
    "**Insight**\n",
    "* **Column names are not standardized. One of them uses spaces to connect two words. And one of them uses \"-\" to connect two words.**"
   ]
  },
  {
   "cell_type": "code",
   "execution_count": 5,
   "metadata": {},
   "outputs": [],
   "source": [
    "# standardize the column name\n",
    "suicide_rate.columns = [c.strip() for c in suicide_rate.columns]\n",
    "suicide_rate.columns = [c.replace(' ', '_') for c in suicide_rate.columns]\n",
    "suicide_rate.columns = [c.replace('-', '_') for c in suicide_rate.columns]"
   ]
  },
  {
   "cell_type": "markdown",
   "metadata": {},
   "source": [
    "- ## Tidy Age column"
   ]
  },
  {
   "cell_type": "markdown",
   "metadata": {},
   "source": [
    "**Insight**\n",
    "* **Remove the string 'years' to make the age column more concise. And replace '5-14' to '05-14' to make the age column can be arranged in order.**"
   ]
  },
  {
   "cell_type": "code",
   "execution_count": 6,
   "metadata": {},
   "outputs": [
    {
     "data": {
      "text/html": [
       "<div>\n",
       "<style scoped>\n",
       "    .dataframe tbody tr th:only-of-type {\n",
       "        vertical-align: middle;\n",
       "    }\n",
       "\n",
       "    .dataframe tbody tr th {\n",
       "        vertical-align: top;\n",
       "    }\n",
       "\n",
       "    .dataframe thead th {\n",
       "        text-align: right;\n",
       "    }\n",
       "</style>\n",
       "<table border=\"1\" class=\"dataframe\">\n",
       "  <thead>\n",
       "    <tr style=\"text-align: right;\">\n",
       "      <th></th>\n",
       "      <th>country</th>\n",
       "      <th>year</th>\n",
       "      <th>sex</th>\n",
       "      <th>age</th>\n",
       "      <th>suicides_no</th>\n",
       "      <th>population</th>\n",
       "      <th>suicides/100k_pop</th>\n",
       "      <th>country_year</th>\n",
       "      <th>HDI_for_year</th>\n",
       "      <th>gdp_for_year_($)</th>\n",
       "      <th>gdp_per_capita_($)</th>\n",
       "      <th>generation</th>\n",
       "    </tr>\n",
       "  </thead>\n",
       "  <tbody>\n",
       "    <tr>\n",
       "      <th>0</th>\n",
       "      <td>Albania</td>\n",
       "      <td>1987</td>\n",
       "      <td>male</td>\n",
       "      <td>15-24</td>\n",
       "      <td>21</td>\n",
       "      <td>312900</td>\n",
       "      <td>6.71</td>\n",
       "      <td>Albania1987</td>\n",
       "      <td>NaN</td>\n",
       "      <td>2,156,624,900</td>\n",
       "      <td>796</td>\n",
       "      <td>Generation X</td>\n",
       "    </tr>\n",
       "    <tr>\n",
       "      <th>1</th>\n",
       "      <td>Albania</td>\n",
       "      <td>1987</td>\n",
       "      <td>male</td>\n",
       "      <td>35-54</td>\n",
       "      <td>16</td>\n",
       "      <td>308000</td>\n",
       "      <td>5.19</td>\n",
       "      <td>Albania1987</td>\n",
       "      <td>NaN</td>\n",
       "      <td>2,156,624,900</td>\n",
       "      <td>796</td>\n",
       "      <td>Silent</td>\n",
       "    </tr>\n",
       "    <tr>\n",
       "      <th>2</th>\n",
       "      <td>Albania</td>\n",
       "      <td>1987</td>\n",
       "      <td>female</td>\n",
       "      <td>15-24</td>\n",
       "      <td>14</td>\n",
       "      <td>289700</td>\n",
       "      <td>4.83</td>\n",
       "      <td>Albania1987</td>\n",
       "      <td>NaN</td>\n",
       "      <td>2,156,624,900</td>\n",
       "      <td>796</td>\n",
       "      <td>Generation X</td>\n",
       "    </tr>\n",
       "    <tr>\n",
       "      <th>3</th>\n",
       "      <td>Albania</td>\n",
       "      <td>1987</td>\n",
       "      <td>male</td>\n",
       "      <td>75+</td>\n",
       "      <td>1</td>\n",
       "      <td>21800</td>\n",
       "      <td>4.59</td>\n",
       "      <td>Albania1987</td>\n",
       "      <td>NaN</td>\n",
       "      <td>2,156,624,900</td>\n",
       "      <td>796</td>\n",
       "      <td>G.I. Generation</td>\n",
       "    </tr>\n",
       "    <tr>\n",
       "      <th>4</th>\n",
       "      <td>Albania</td>\n",
       "      <td>1987</td>\n",
       "      <td>male</td>\n",
       "      <td>25-34</td>\n",
       "      <td>9</td>\n",
       "      <td>274300</td>\n",
       "      <td>3.28</td>\n",
       "      <td>Albania1987</td>\n",
       "      <td>NaN</td>\n",
       "      <td>2,156,624,900</td>\n",
       "      <td>796</td>\n",
       "      <td>Boomers</td>\n",
       "    </tr>\n",
       "  </tbody>\n",
       "</table>\n",
       "</div>"
      ],
      "text/plain": [
       "   country  year     sex     age  suicides_no  population  suicides/100k_pop  \\\n",
       "0  Albania  1987    male  15-24            21      312900               6.71   \n",
       "1  Albania  1987    male  35-54            16      308000               5.19   \n",
       "2  Albania  1987  female  15-24            14      289700               4.83   \n",
       "3  Albania  1987    male    75+             1       21800               4.59   \n",
       "4  Albania  1987    male  25-34             9      274300               3.28   \n",
       "\n",
       "  country_year  HDI_for_year gdp_for_year_($)  gdp_per_capita_($)  \\\n",
       "0  Albania1987           NaN    2,156,624,900                 796   \n",
       "1  Albania1987           NaN    2,156,624,900                 796   \n",
       "2  Albania1987           NaN    2,156,624,900                 796   \n",
       "3  Albania1987           NaN    2,156,624,900                 796   \n",
       "4  Albania1987           NaN    2,156,624,900                 796   \n",
       "\n",
       "        generation  \n",
       "0     Generation X  \n",
       "1           Silent  \n",
       "2     Generation X  \n",
       "3  G.I. Generation  \n",
       "4          Boomers  "
      ]
     },
     "execution_count": 6,
     "metadata": {},
     "output_type": "execute_result"
    }
   ],
   "source": [
    "suicide_rate['age'] = suicide_rate['age'].str.replace('years', '')\n",
    "suicide_rate['age'] = suicide_rate['age'].str.replace('5-14', '05-14')\n",
    "\n",
    "suicide_rate.head(5)"
   ]
  },
  {
   "cell_type": "markdown",
   "metadata": {},
   "source": [
    "- ## Remove HDI_for_year and country_year columns"
   ]
  },
  {
   "cell_type": "code",
   "execution_count": 7,
   "metadata": {},
   "outputs": [
    {
     "data": {
      "text/plain": [
       "country               False\n",
       "year                  False\n",
       "sex                   False\n",
       "age                   False\n",
       "suicides_no           False\n",
       "population            False\n",
       "suicides/100k_pop     False\n",
       "country_year          False\n",
       "HDI_for_year           True\n",
       "gdp_for_year_($)      False\n",
       "gdp_per_capita_($)    False\n",
       "generation            False\n",
       "dtype: bool"
      ]
     },
     "execution_count": 7,
     "metadata": {},
     "output_type": "execute_result"
    }
   ],
   "source": [
    "# check if there is any missing value.\n",
    "suicide_rate.isnull().any()"
   ]
  },
  {
   "cell_type": "code",
   "execution_count": 8,
   "metadata": {},
   "outputs": [
    {
     "data": {
      "text/plain": [
       "country                   0\n",
       "year                      0\n",
       "sex                       0\n",
       "age                       0\n",
       "suicides_no               0\n",
       "population                0\n",
       "suicides/100k_pop         0\n",
       "country_year              0\n",
       "HDI_for_year          19456\n",
       "gdp_for_year_($)          0\n",
       "gdp_per_capita_($)        0\n",
       "generation                0\n",
       "dtype: int64"
      ]
     },
     "execution_count": 8,
     "metadata": {},
     "output_type": "execute_result"
    }
   ],
   "source": [
    "# sum the missing value\n",
    "suicide_rate.isnull().sum()"
   ]
  },
  {
   "cell_type": "markdown",
   "metadata": {},
   "source": [
    "**Insight**\n",
    "* There are a lot missing values in the **HDI_for_year** column. **It should be dropped**. And notice that **country_year** is a **composite column** as we already have country and year these two columns. **So drop country_year column as well**. "
   ]
  },
  {
   "cell_type": "code",
   "execution_count": 9,
   "metadata": {},
   "outputs": [],
   "source": [
    "# drop the HDI for year column and contry-year column\n",
    "suicide_rate = suicide_rate.drop(['HDI_for_year', 'country_year'], axis=1)"
   ]
  },
  {
   "cell_type": "markdown",
   "metadata": {},
   "source": [
    "- ## Convert gdp_for_year_($) column to float type"
   ]
  },
  {
   "cell_type": "markdown",
   "metadata": {},
   "source": [
    "**Insight**\n",
    "* **Since gdp_for_year_($) column is object type by default which should be numeric. So change it to float type**."
   ]
  },
  {
   "cell_type": "code",
   "execution_count": 10,
   "metadata": {},
   "outputs": [],
   "source": [
    "# convert gdp_for_year_($) to float\n",
    "suicide_rate['gdp_for_year_($)'] = suicide_rate['gdp_for_year_($)'].str.replace(\n",
    "    ',', '')\n",
    "suicide_rate['gdp_for_year_($)'] = suicide_rate['gdp_for_year_($)'].astype(\n",
    "    float)"
   ]
  },
  {
   "cell_type": "code",
   "execution_count": 11,
   "metadata": {},
   "outputs": [
    {
     "data": {
      "text/html": [
       "<div>\n",
       "<style scoped>\n",
       "    .dataframe tbody tr th:only-of-type {\n",
       "        vertical-align: middle;\n",
       "    }\n",
       "\n",
       "    .dataframe tbody tr th {\n",
       "        vertical-align: top;\n",
       "    }\n",
       "\n",
       "    .dataframe thead th {\n",
       "        text-align: right;\n",
       "    }\n",
       "</style>\n",
       "<table border=\"1\" class=\"dataframe\">\n",
       "  <thead>\n",
       "    <tr style=\"text-align: right;\">\n",
       "      <th></th>\n",
       "      <th>country</th>\n",
       "      <th>year</th>\n",
       "      <th>sex</th>\n",
       "      <th>age</th>\n",
       "      <th>suicides_no</th>\n",
       "      <th>population</th>\n",
       "      <th>suicides/100k_pop</th>\n",
       "      <th>gdp_for_year_($)</th>\n",
       "      <th>gdp_per_capita_($)</th>\n",
       "      <th>generation</th>\n",
       "    </tr>\n",
       "  </thead>\n",
       "  <tbody>\n",
       "    <tr>\n",
       "      <th>0</th>\n",
       "      <td>Albania</td>\n",
       "      <td>1987</td>\n",
       "      <td>male</td>\n",
       "      <td>15-24</td>\n",
       "      <td>21</td>\n",
       "      <td>312900</td>\n",
       "      <td>6.71</td>\n",
       "      <td>2.156625e+09</td>\n",
       "      <td>796</td>\n",
       "      <td>Generation X</td>\n",
       "    </tr>\n",
       "    <tr>\n",
       "      <th>1</th>\n",
       "      <td>Albania</td>\n",
       "      <td>1987</td>\n",
       "      <td>male</td>\n",
       "      <td>35-54</td>\n",
       "      <td>16</td>\n",
       "      <td>308000</td>\n",
       "      <td>5.19</td>\n",
       "      <td>2.156625e+09</td>\n",
       "      <td>796</td>\n",
       "      <td>Silent</td>\n",
       "    </tr>\n",
       "    <tr>\n",
       "      <th>2</th>\n",
       "      <td>Albania</td>\n",
       "      <td>1987</td>\n",
       "      <td>female</td>\n",
       "      <td>15-24</td>\n",
       "      <td>14</td>\n",
       "      <td>289700</td>\n",
       "      <td>4.83</td>\n",
       "      <td>2.156625e+09</td>\n",
       "      <td>796</td>\n",
       "      <td>Generation X</td>\n",
       "    </tr>\n",
       "    <tr>\n",
       "      <th>3</th>\n",
       "      <td>Albania</td>\n",
       "      <td>1987</td>\n",
       "      <td>male</td>\n",
       "      <td>75+</td>\n",
       "      <td>1</td>\n",
       "      <td>21800</td>\n",
       "      <td>4.59</td>\n",
       "      <td>2.156625e+09</td>\n",
       "      <td>796</td>\n",
       "      <td>G.I. Generation</td>\n",
       "    </tr>\n",
       "    <tr>\n",
       "      <th>4</th>\n",
       "      <td>Albania</td>\n",
       "      <td>1987</td>\n",
       "      <td>male</td>\n",
       "      <td>25-34</td>\n",
       "      <td>9</td>\n",
       "      <td>274300</td>\n",
       "      <td>3.28</td>\n",
       "      <td>2.156625e+09</td>\n",
       "      <td>796</td>\n",
       "      <td>Boomers</td>\n",
       "    </tr>\n",
       "  </tbody>\n",
       "</table>\n",
       "</div>"
      ],
      "text/plain": [
       "   country  year     sex     age  suicides_no  population  suicides/100k_pop  \\\n",
       "0  Albania  1987    male  15-24            21      312900               6.71   \n",
       "1  Albania  1987    male  35-54            16      308000               5.19   \n",
       "2  Albania  1987  female  15-24            14      289700               4.83   \n",
       "3  Albania  1987    male    75+             1       21800               4.59   \n",
       "4  Albania  1987    male  25-34             9      274300               3.28   \n",
       "\n",
       "   gdp_for_year_($)  gdp_per_capita_($)       generation  \n",
       "0      2.156625e+09                 796     Generation X  \n",
       "1      2.156625e+09                 796           Silent  \n",
       "2      2.156625e+09                 796     Generation X  \n",
       "3      2.156625e+09                 796  G.I. Generation  \n",
       "4      2.156625e+09                 796          Boomers  "
      ]
     },
     "execution_count": 11,
     "metadata": {},
     "output_type": "execute_result"
    }
   ],
   "source": [
    "# the first 5 rows of new dataframe\n",
    "suicide_rate.head()"
   ]
  },
  {
   "cell_type": "markdown",
   "metadata": {},
   "source": [
    "- ## Remove 2016 data"
   ]
  },
  {
   "cell_type": "code",
   "execution_count": 12,
   "metadata": {},
   "outputs": [
    {
     "name": "stdout",
     "output_type": "stream",
     "text": [
      "    year  Total records\n",
      "0   1985            576\n",
      "1   1986            576\n",
      "2   1987            648\n",
      "3   1988            588\n",
      "4   1989            624\n",
      "5   1990            768\n",
      "6   1991            768\n",
      "7   1992            780\n",
      "8   1993            780\n",
      "9   1994            816\n",
      "10  1995            936\n",
      "11  1996            924\n",
      "12  1997            924\n",
      "13  1998            948\n",
      "14  1999            996\n",
      "15  2000           1032\n",
      "16  2001           1056\n",
      "17  2002           1032\n",
      "18  2003           1032\n",
      "19  2004           1008\n",
      "20  2005           1008\n",
      "21  2006           1020\n",
      "22  2007           1032\n",
      "23  2008           1020\n",
      "24  2009           1068\n",
      "25  2010           1056\n",
      "26  2011           1032\n",
      "27  2012            972\n",
      "28  2013            960\n",
      "29  2014            936\n",
      "30  2015            744\n",
      "31  2016            160\n"
     ]
    }
   ],
   "source": [
    "# get total records by year\n",
    "records_by_year = suicide_rate.groupby('year')['country']\\\n",
    "    .count().reset_index().rename(columns={'country': 'Total records'})\n",
    "print(records_by_year)"
   ]
  },
  {
   "cell_type": "code",
   "execution_count": 13,
   "metadata": {},
   "outputs": [
    {
     "name": "stdout",
     "output_type": "stream",
     "text": [
      "['Armenia' 'Austria' 'Croatia' 'Cyprus' 'Czech Republic' 'Grenada'\n",
      " 'Hungary' 'Iceland' 'Lithuania' 'Mauritius' 'Mongolia' 'Netherlands'\n",
      " 'Qatar' 'Romania' 'Sweden' 'Thailand']\n"
     ]
    }
   ],
   "source": [
    "# get the unique countries in 2016\n",
    "unique_country_2016 = suicide_rate[suicide_rate['year']\n",
    "                                   == 2016].country.unique()\n",
    "print(unique_country_2016)"
   ]
  },
  {
   "cell_type": "code",
   "execution_count": 14,
   "metadata": {},
   "outputs": [
    {
     "data": {
      "text/plain": [
       "16"
      ]
     },
     "execution_count": 14,
     "metadata": {},
     "output_type": "execute_result"
    }
   ],
   "source": [
    "# the count of unique country in 2016\n",
    "len(unique_country_2016)"
   ]
  },
  {
   "cell_type": "markdown",
   "metadata": {},
   "source": [
    "**Insight**\n",
    "* **There are few records and few countries in the year 2016. So I am gonna filter out the 2016 data**."
   ]
  },
  {
   "cell_type": "code",
   "execution_count": 15,
   "metadata": {},
   "outputs": [
    {
     "name": "stdout",
     "output_type": "stream",
     "text": [
      "\n",
      "*** the first 5 rows of filtered dataframe***\n"
     ]
    },
    {
     "data": {
      "text/html": [
       "<div>\n",
       "<style scoped>\n",
       "    .dataframe tbody tr th:only-of-type {\n",
       "        vertical-align: middle;\n",
       "    }\n",
       "\n",
       "    .dataframe tbody tr th {\n",
       "        vertical-align: top;\n",
       "    }\n",
       "\n",
       "    .dataframe thead th {\n",
       "        text-align: right;\n",
       "    }\n",
       "</style>\n",
       "<table border=\"1\" class=\"dataframe\">\n",
       "  <thead>\n",
       "    <tr style=\"text-align: right;\">\n",
       "      <th></th>\n",
       "      <th>country</th>\n",
       "      <th>year</th>\n",
       "      <th>sex</th>\n",
       "      <th>age</th>\n",
       "      <th>suicides_no</th>\n",
       "      <th>population</th>\n",
       "      <th>suicides/100k_pop</th>\n",
       "      <th>gdp_for_year_($)</th>\n",
       "      <th>gdp_per_capita_($)</th>\n",
       "      <th>generation</th>\n",
       "    </tr>\n",
       "  </thead>\n",
       "  <tbody>\n",
       "    <tr>\n",
       "      <th>0</th>\n",
       "      <td>Albania</td>\n",
       "      <td>1987</td>\n",
       "      <td>male</td>\n",
       "      <td>15-24</td>\n",
       "      <td>21</td>\n",
       "      <td>312900</td>\n",
       "      <td>6.71</td>\n",
       "      <td>2.156625e+09</td>\n",
       "      <td>796</td>\n",
       "      <td>Generation X</td>\n",
       "    </tr>\n",
       "    <tr>\n",
       "      <th>1</th>\n",
       "      <td>Albania</td>\n",
       "      <td>1987</td>\n",
       "      <td>male</td>\n",
       "      <td>35-54</td>\n",
       "      <td>16</td>\n",
       "      <td>308000</td>\n",
       "      <td>5.19</td>\n",
       "      <td>2.156625e+09</td>\n",
       "      <td>796</td>\n",
       "      <td>Silent</td>\n",
       "    </tr>\n",
       "    <tr>\n",
       "      <th>2</th>\n",
       "      <td>Albania</td>\n",
       "      <td>1987</td>\n",
       "      <td>female</td>\n",
       "      <td>15-24</td>\n",
       "      <td>14</td>\n",
       "      <td>289700</td>\n",
       "      <td>4.83</td>\n",
       "      <td>2.156625e+09</td>\n",
       "      <td>796</td>\n",
       "      <td>Generation X</td>\n",
       "    </tr>\n",
       "    <tr>\n",
       "      <th>3</th>\n",
       "      <td>Albania</td>\n",
       "      <td>1987</td>\n",
       "      <td>male</td>\n",
       "      <td>75+</td>\n",
       "      <td>1</td>\n",
       "      <td>21800</td>\n",
       "      <td>4.59</td>\n",
       "      <td>2.156625e+09</td>\n",
       "      <td>796</td>\n",
       "      <td>G.I. Generation</td>\n",
       "    </tr>\n",
       "    <tr>\n",
       "      <th>4</th>\n",
       "      <td>Albania</td>\n",
       "      <td>1987</td>\n",
       "      <td>male</td>\n",
       "      <td>25-34</td>\n",
       "      <td>9</td>\n",
       "      <td>274300</td>\n",
       "      <td>3.28</td>\n",
       "      <td>2.156625e+09</td>\n",
       "      <td>796</td>\n",
       "      <td>Boomers</td>\n",
       "    </tr>\n",
       "  </tbody>\n",
       "</table>\n",
       "</div>"
      ],
      "text/plain": [
       "   country  year     sex     age  suicides_no  population  suicides/100k_pop  \\\n",
       "0  Albania  1987    male  15-24            21      312900               6.71   \n",
       "1  Albania  1987    male  35-54            16      308000               5.19   \n",
       "2  Albania  1987  female  15-24            14      289700               4.83   \n",
       "3  Albania  1987    male    75+             1       21800               4.59   \n",
       "4  Albania  1987    male  25-34             9      274300               3.28   \n",
       "\n",
       "   gdp_for_year_($)  gdp_per_capita_($)       generation  \n",
       "0      2.156625e+09                 796     Generation X  \n",
       "1      2.156625e+09                 796           Silent  \n",
       "2      2.156625e+09                 796     Generation X  \n",
       "3      2.156625e+09                 796  G.I. Generation  \n",
       "4      2.156625e+09                 796          Boomers  "
      ]
     },
     "execution_count": 15,
     "metadata": {},
     "output_type": "execute_result"
    }
   ],
   "source": [
    "# filter out the 2016 data\n",
    "suicide_rate = suicide_rate[suicide_rate['year'] != 2016]\n",
    "print(\"\\n*** the first 5 rows of filtered dataframe***\")\n",
    "suicide_rate.head()"
   ]
  },
  {
   "cell_type": "code",
   "execution_count": 16,
   "metadata": {},
   "outputs": [
    {
     "data": {
      "text/html": [
       "<div>\n",
       "<style scoped>\n",
       "    .dataframe tbody tr th:only-of-type {\n",
       "        vertical-align: middle;\n",
       "    }\n",
       "\n",
       "    .dataframe tbody tr th {\n",
       "        vertical-align: top;\n",
       "    }\n",
       "\n",
       "    .dataframe thead th {\n",
       "        text-align: right;\n",
       "    }\n",
       "</style>\n",
       "<table border=\"1\" class=\"dataframe\">\n",
       "  <thead>\n",
       "    <tr style=\"text-align: right;\">\n",
       "      <th></th>\n",
       "      <th>year</th>\n",
       "      <th>suicides_no</th>\n",
       "      <th>population</th>\n",
       "      <th>suicides/100k_pop</th>\n",
       "      <th>gdp_for_year_($)</th>\n",
       "      <th>gdp_per_capita_($)</th>\n",
       "    </tr>\n",
       "  </thead>\n",
       "  <tbody>\n",
       "    <tr>\n",
       "      <th>count</th>\n",
       "      <td>27660.000000</td>\n",
       "      <td>27660.000000</td>\n",
       "      <td>2.766000e+04</td>\n",
       "      <td>27660.000000</td>\n",
       "      <td>2.766000e+04</td>\n",
       "      <td>27660.000000</td>\n",
       "    </tr>\n",
       "    <tr>\n",
       "      <th>mean</th>\n",
       "      <td>2001.173102</td>\n",
       "      <td>243.413485</td>\n",
       "      <td>1.850689e+06</td>\n",
       "      <td>12.812597</td>\n",
       "      <td>4.471009e+11</td>\n",
       "      <td>16815.568330</td>\n",
       "    </tr>\n",
       "    <tr>\n",
       "      <th>std</th>\n",
       "      <td>8.418754</td>\n",
       "      <td>904.490185</td>\n",
       "      <td>3.920658e+06</td>\n",
       "      <td>18.972063</td>\n",
       "      <td>1.457574e+12</td>\n",
       "      <td>18861.585497</td>\n",
       "    </tr>\n",
       "    <tr>\n",
       "      <th>min</th>\n",
       "      <td>1985.000000</td>\n",
       "      <td>0.000000</td>\n",
       "      <td>2.780000e+02</td>\n",
       "      <td>0.000000</td>\n",
       "      <td>4.691962e+07</td>\n",
       "      <td>251.000000</td>\n",
       "    </tr>\n",
       "    <tr>\n",
       "      <th>25%</th>\n",
       "      <td>1994.000000</td>\n",
       "      <td>3.000000</td>\n",
       "      <td>9.753525e+04</td>\n",
       "      <td>0.910000</td>\n",
       "      <td>8.976208e+09</td>\n",
       "      <td>3436.000000</td>\n",
       "    </tr>\n",
       "    <tr>\n",
       "      <th>50%</th>\n",
       "      <td>2002.000000</td>\n",
       "      <td>25.000000</td>\n",
       "      <td>4.307250e+05</td>\n",
       "      <td>5.980000</td>\n",
       "      <td>4.801361e+10</td>\n",
       "      <td>9283.000000</td>\n",
       "    </tr>\n",
       "    <tr>\n",
       "      <th>75%</th>\n",
       "      <td>2008.000000</td>\n",
       "      <td>132.000000</td>\n",
       "      <td>1.491041e+06</td>\n",
       "      <td>16.602500</td>\n",
       "      <td>2.602024e+11</td>\n",
       "      <td>24796.000000</td>\n",
       "    </tr>\n",
       "    <tr>\n",
       "      <th>max</th>\n",
       "      <td>2015.000000</td>\n",
       "      <td>22338.000000</td>\n",
       "      <td>4.380521e+07</td>\n",
       "      <td>224.970000</td>\n",
       "      <td>1.812071e+13</td>\n",
       "      <td>126352.000000</td>\n",
       "    </tr>\n",
       "  </tbody>\n",
       "</table>\n",
       "</div>"
      ],
      "text/plain": [
       "               year   suicides_no    population  suicides/100k_pop  \\\n",
       "count  27660.000000  27660.000000  2.766000e+04       27660.000000   \n",
       "mean    2001.173102    243.413485  1.850689e+06          12.812597   \n",
       "std        8.418754    904.490185  3.920658e+06          18.972063   \n",
       "min     1985.000000      0.000000  2.780000e+02           0.000000   \n",
       "25%     1994.000000      3.000000  9.753525e+04           0.910000   \n",
       "50%     2002.000000     25.000000  4.307250e+05           5.980000   \n",
       "75%     2008.000000    132.000000  1.491041e+06          16.602500   \n",
       "max     2015.000000  22338.000000  4.380521e+07         224.970000   \n",
       "\n",
       "       gdp_for_year_($)  gdp_per_capita_($)  \n",
       "count      2.766000e+04        27660.000000  \n",
       "mean       4.471009e+11        16815.568330  \n",
       "std        1.457574e+12        18861.585497  \n",
       "min        4.691962e+07          251.000000  \n",
       "25%        8.976208e+09         3436.000000  \n",
       "50%        4.801361e+10         9283.000000  \n",
       "75%        2.602024e+11        24796.000000  \n",
       "max        1.812071e+13       126352.000000  "
      ]
     },
     "execution_count": 16,
     "metadata": {},
     "output_type": "execute_result"
    }
   ],
   "source": [
    "# generate descriptive statistics\n",
    "suicide_rate.describe()"
   ]
  },
  {
   "cell_type": "markdown",
   "metadata": {},
   "source": [
    "- ## Add continent column"
   ]
  },
  {
   "cell_type": "markdown",
   "metadata": {},
   "source": [
    "**Insight**\n",
    "* First, find out which countries in this dataframe don't have corresponding name in pycountry package then fix the names of the above countries to match the country names in pycountry package. At last, write a function to convert to alpah2 country codes and continents"
   ]
  },
  {
   "cell_type": "code",
   "execution_count": 17,
   "metadata": {},
   "outputs": [],
   "source": [
    "countries = {}\n",
    "for country in pycountry.countries:\n",
    "    countries[country.name] = country.alpha_3"
   ]
  },
  {
   "cell_type": "code",
   "execution_count": 18,
   "metadata": {},
   "outputs": [
    {
     "data": {
      "text/plain": [
       "['Saint Vincent and Grenadines',\n",
       " 'Czech Republic',\n",
       " 'Republic of Korea',\n",
       " 'Macau']"
      ]
     },
     "execution_count": 18,
     "metadata": {},
     "output_type": "execute_result"
    }
   ],
   "source": [
    "country_not_in_list = list(\n",
    "    set([i for i in suicide_rate.country if i not in countries.keys()]))\n",
    "country_not_in_list"
   ]
  },
  {
   "cell_type": "code",
   "execution_count": 19,
   "metadata": {},
   "outputs": [],
   "source": [
    "# fix the names of the above countries to match the country names in pycountry package\n",
    "suicide_rate = suicide_rate.replace('Republic of Korea', 'South Korea')\n",
    "suicide_rate = suicide_rate.replace(\n",
    "    'Saint Vincent and Grenadines', 'Saint Vincent and the Grenadines')\n",
    "suicide_rate = suicide_rate.replace('Czech Republic', \"Czechia\")\n",
    "suicide_rate = suicide_rate.replace('Macau', 'Macao')"
   ]
  },
  {
   "cell_type": "code",
   "execution_count": 20,
   "metadata": {},
   "outputs": [],
   "source": [
    "# function to convert to alpah2 country codes and continents\n",
    "\n",
    "def country_to_continent(country_name):\n",
    "\n",
    "    country_alpha2 = pc.country_name_to_country_alpha2(country_name)\n",
    "    country_continent_code = pc.country_alpha2_to_continent_code(\n",
    "        country_alpha2)\n",
    "    country_continent_name = pc.convert_continent_code_to_continent_name(\n",
    "        country_continent_code)\n",
    "    return country_continent_name\n",
    "\n",
    "\n",
    "continent = []\n",
    "for i in suicide_rate['country']:\n",
    "    c = country_to_continent(i)\n",
    "    continent.append(c)\n",
    "\n",
    "# add continent colum\n",
    "suicide_rate['continent'] = continent"
   ]
  },
  {
   "cell_type": "code",
   "execution_count": 21,
   "metadata": {},
   "outputs": [
    {
     "data": {
      "text/html": [
       "<div>\n",
       "<style scoped>\n",
       "    .dataframe tbody tr th:only-of-type {\n",
       "        vertical-align: middle;\n",
       "    }\n",
       "\n",
       "    .dataframe tbody tr th {\n",
       "        vertical-align: top;\n",
       "    }\n",
       "\n",
       "    .dataframe thead th {\n",
       "        text-align: right;\n",
       "    }\n",
       "</style>\n",
       "<table border=\"1\" class=\"dataframe\">\n",
       "  <thead>\n",
       "    <tr style=\"text-align: right;\">\n",
       "      <th></th>\n",
       "      <th>country</th>\n",
       "      <th>year</th>\n",
       "      <th>sex</th>\n",
       "      <th>age</th>\n",
       "      <th>suicides_no</th>\n",
       "      <th>population</th>\n",
       "      <th>suicides/100k_pop</th>\n",
       "      <th>gdp_for_year_($)</th>\n",
       "      <th>gdp_per_capita_($)</th>\n",
       "      <th>generation</th>\n",
       "      <th>continent</th>\n",
       "    </tr>\n",
       "  </thead>\n",
       "  <tbody>\n",
       "    <tr>\n",
       "      <th>0</th>\n",
       "      <td>Albania</td>\n",
       "      <td>1987</td>\n",
       "      <td>male</td>\n",
       "      <td>15-24</td>\n",
       "      <td>21</td>\n",
       "      <td>312900</td>\n",
       "      <td>6.71</td>\n",
       "      <td>2.156625e+09</td>\n",
       "      <td>796</td>\n",
       "      <td>Generation X</td>\n",
       "      <td>Europe</td>\n",
       "    </tr>\n",
       "    <tr>\n",
       "      <th>1</th>\n",
       "      <td>Albania</td>\n",
       "      <td>1987</td>\n",
       "      <td>male</td>\n",
       "      <td>35-54</td>\n",
       "      <td>16</td>\n",
       "      <td>308000</td>\n",
       "      <td>5.19</td>\n",
       "      <td>2.156625e+09</td>\n",
       "      <td>796</td>\n",
       "      <td>Silent</td>\n",
       "      <td>Europe</td>\n",
       "    </tr>\n",
       "    <tr>\n",
       "      <th>2</th>\n",
       "      <td>Albania</td>\n",
       "      <td>1987</td>\n",
       "      <td>female</td>\n",
       "      <td>15-24</td>\n",
       "      <td>14</td>\n",
       "      <td>289700</td>\n",
       "      <td>4.83</td>\n",
       "      <td>2.156625e+09</td>\n",
       "      <td>796</td>\n",
       "      <td>Generation X</td>\n",
       "      <td>Europe</td>\n",
       "    </tr>\n",
       "    <tr>\n",
       "      <th>3</th>\n",
       "      <td>Albania</td>\n",
       "      <td>1987</td>\n",
       "      <td>male</td>\n",
       "      <td>75+</td>\n",
       "      <td>1</td>\n",
       "      <td>21800</td>\n",
       "      <td>4.59</td>\n",
       "      <td>2.156625e+09</td>\n",
       "      <td>796</td>\n",
       "      <td>G.I. Generation</td>\n",
       "      <td>Europe</td>\n",
       "    </tr>\n",
       "    <tr>\n",
       "      <th>4</th>\n",
       "      <td>Albania</td>\n",
       "      <td>1987</td>\n",
       "      <td>male</td>\n",
       "      <td>25-34</td>\n",
       "      <td>9</td>\n",
       "      <td>274300</td>\n",
       "      <td>3.28</td>\n",
       "      <td>2.156625e+09</td>\n",
       "      <td>796</td>\n",
       "      <td>Boomers</td>\n",
       "      <td>Europe</td>\n",
       "    </tr>\n",
       "  </tbody>\n",
       "</table>\n",
       "</div>"
      ],
      "text/plain": [
       "   country  year     sex     age  suicides_no  population  suicides/100k_pop  \\\n",
       "0  Albania  1987    male  15-24            21      312900               6.71   \n",
       "1  Albania  1987    male  35-54            16      308000               5.19   \n",
       "2  Albania  1987  female  15-24            14      289700               4.83   \n",
       "3  Albania  1987    male    75+             1       21800               4.59   \n",
       "4  Albania  1987    male  25-34             9      274300               3.28   \n",
       "\n",
       "   gdp_for_year_($)  gdp_per_capita_($)       generation continent  \n",
       "0      2.156625e+09                 796     Generation X    Europe  \n",
       "1      2.156625e+09                 796           Silent    Europe  \n",
       "2      2.156625e+09                 796     Generation X    Europe  \n",
       "3      2.156625e+09                 796  G.I. Generation    Europe  \n",
       "4      2.156625e+09                 796          Boomers    Europe  "
      ]
     },
     "execution_count": 21,
     "metadata": {},
     "output_type": "execute_result"
    }
   ],
   "source": [
    "# the first 5 rows of new dataframe\n",
    "suicide_rate.head()"
   ]
  },
  {
   "cell_type": "code",
   "execution_count": 22,
   "metadata": {},
   "outputs": [
    {
     "data": {
      "text/plain": [
       "array(['Europe', 'North America', 'South America', 'Asia', 'Oceania',\n",
       "       'Africa'], dtype=object)"
      ]
     },
     "execution_count": 22,
     "metadata": {},
     "output_type": "execute_result"
    }
   ],
   "source": [
    "# get the unique value of continent\n",
    "suicide_rate.continent.unique()"
   ]
  },
  {
   "cell_type": "code",
   "execution_count": 23,
   "metadata": {},
   "outputs": [
    {
     "data": {
      "text/plain": [
       "(27660, 11)"
      ]
     },
     "execution_count": 23,
     "metadata": {},
     "output_type": "execute_result"
    }
   ],
   "source": [
    "suicide_rate = suicide_rate.dropna()\n",
    "suicide_rate.shape"
   ]
  },
  {
   "cell_type": "markdown",
   "metadata": {},
   "source": [
    "# Exploratory analysis \n",
    "- ## Worldwide Analysis Of Suicide Rate \n",
    "- ### Worldwide Analysis Of Suicide Rate Over Time "
   ]
  },
  {
   "cell_type": "code",
   "execution_count": 24,
   "metadata": {},
   "outputs": [
    {
     "name": "stdout",
     "output_type": "stream",
     "text": [
      "    year  average_suicide_rate\n",
      "0   1985             11.826198\n",
      "1   1986             11.423333\n",
      "2   1987             11.644213\n",
      "3   1988             12.709405\n",
      "4   1989             12.879071\n",
      "5   1990             12.862956\n",
      "6   1991             13.438880\n",
      "7   1992             13.498564\n",
      "8   1993             13.833705\n",
      "9   1994             14.073272\n",
      "10  1995             15.662671\n",
      "11  1996             15.305422\n",
      "12  1997             14.954361\n",
      "13  1998             14.926920\n",
      "14  1999             14.532038\n",
      "15  2000             13.941328\n",
      "16  2001             13.519138\n",
      "17  2002             13.786550\n",
      "18  2003             13.205019\n",
      "19  2004             12.481944\n",
      "20  2005             12.068442\n",
      "21  2006             11.927461\n",
      "22  2007             12.025339\n",
      "23  2008             11.907686\n",
      "24  2009             11.400787\n",
      "25  2010             11.215900\n",
      "26  2011             11.015349\n",
      "27  2012             11.421718\n",
      "28  2013             11.107958\n",
      "29  2014             11.011464\n",
      "30  2015             11.094073\n",
      "\n",
      "\n",
      "the average of the global suicide rate is  12.797\n"
     ]
    }
   ],
   "source": [
    "# calculate worldwide average suicide rate per year\n",
    "suicide_rate_by_year = suicide_rate.groupby('year')['suicides/100k_pop']\\\n",
    "    .mean().reset_index().rename(columns={'suicides/100k_pop': 'average_suicide_rate'})\n",
    "print(suicide_rate_by_year)\n",
    "mean_suicide_rate = mean(suicide_rate_by_year['average_suicide_rate'])\n",
    "print(\"\\n\")\n",
    "print(\"the average of the global suicide rate is \", round(mean_suicide_rate, 3))"
   ]
  },
  {
   "cell_type": "code",
   "execution_count": 25,
   "metadata": {},
   "outputs": [
    {
     "data": {
      "image/png": "[encoded data removed]",
      "text/plain": [
       "<Figure size 720x360 with 1 Axes>"
      ]
     },
     "metadata": {
      "needs_background": "light"
     },
     "output_type": "display_data"
    }
   ],
   "source": [
    "fig = plt.subplots(figsize=(10, 5))\n",
    "plt.plot('year', 'average_suicide_rate', 'ro-', data=suicide_rate_by_year)\n",
    "plt.plot(np.linspace(1985, 2015, 31), np.linspace(\n",
    "    mean_suicide_rate, mean_suicide_rate, 31), 'b--')\n",
    "plt.xlim(1984, 2016)\n",
    "plt.xlabel('year')\n",
    "plt.ylabel('Average suicide rate')\n",
    "plt.text(1995, 13, r'Mean = 12.797')\n",
    "plt.title('Worldwide Suicide Rates(per 100k) over time')\n",
    "plt.tight_layout()\n",
    "plt.show()"
   ]
  },
  {
   "cell_type": "markdown",
   "metadata": {},
   "source": [
    "**Insights**\n",
    "- The rate peaked in **1995** , and began to decrease after that year"
   ]
  },
  {
   "cell_type": "markdown",
   "metadata": {},
   "source": [
    "- ### Worldwide Suicide Rate By Gender"
   ]
  },
  {
   "cell_type": "code",
   "execution_count": 26,
   "metadata": {},
   "outputs": [
    {
     "name": "stdout",
     "output_type": "stream",
     "text": [
      "      sex  average_suicide_rate\n",
      "0  female              5.396188\n",
      "1    male             20.229007\n",
      "\n",
      "\n",
      "    year  Male_average_suicide_rate\n",
      "0   1985                  17.875486\n",
      "1   1986                  17.033993\n",
      "2   1987                  17.556296\n",
      "3   1988                  19.095408\n",
      "4   1989                  19.581314\n",
      "5   1990                  19.818906\n",
      "6   1991                  20.849792\n",
      "7   1992                  20.747462\n",
      "8   1993                  21.636154\n",
      "9   1994                  21.906520\n",
      "10  1995                  24.905256\n",
      "11  1996                  24.296472\n",
      "12  1997                  23.903983\n",
      "13  1998                  23.774198\n",
      "14  1999                  23.196305\n",
      "15  2000                  22.099651\n",
      "16  2001                  21.546345\n",
      "17  2002                  21.966996\n",
      "18  2003                  21.107655\n",
      "19  2004                  19.909762\n",
      "20  2005                  19.129286\n",
      "21  2006                  19.085863\n",
      "22  2007                  19.056667\n",
      "23  2008                  18.835961\n",
      "24  2009                  18.273333\n",
      "25  2010                  18.025682\n",
      "26  2011                  17.686376\n",
      "27  2012                  18.321811\n",
      "28  2013                  17.849708\n",
      "29  2014                  17.564124\n",
      "30  2015                  17.534677\n",
      "\n",
      "\n",
      "    year  Female_average_suicide_rate\n",
      "0   1985                     5.776910\n",
      "1   1986                     5.812674\n",
      "2   1987                     5.732130\n",
      "3   1988                     6.323401\n",
      "4   1989                     6.176827\n",
      "5   1990                     5.907005\n",
      "6   1991                     6.027969\n",
      "7   1992                     6.249667\n",
      "8   1993                     6.031256\n",
      "9   1994                     6.240025\n",
      "10  1995                     6.420085\n",
      "11  1996                     6.314372\n",
      "12  1997                     6.004740\n",
      "13  1998                     6.079641\n",
      "14  1999                     5.867771\n",
      "15  2000                     5.783004\n",
      "16  2001                     5.491932\n",
      "17  2002                     5.606105\n",
      "18  2003                     5.302384\n",
      "19  2004                     5.054127\n",
      "20  2005                     5.007599\n",
      "21  2006                     4.769059\n",
      "22  2007                     4.994012\n",
      "23  2008                     4.979412\n",
      "24  2009                     4.528240\n",
      "25  2010                     4.406117\n",
      "26  2011                     4.344322\n",
      "27  2012                     4.521626\n",
      "28  2013                     4.366208\n",
      "29  2014                     4.458803\n",
      "30  2015                     4.653468\n"
     ]
    }
   ],
   "source": [
    "# calculate average suicide rate by gender\n",
    "suicide_rate_gender = suicide_rate.groupby('sex')['suicides/100k_pop']\\\n",
    "    .mean().reset_index().rename(columns={'suicides/100k_pop': 'average_suicide_rate'})\n",
    "print(suicide_rate_gender)\n",
    "print(\"\\n\")\n",
    "\n",
    "# calculate average suicide rate by gender by year\n",
    "suicide_rate_men = suicide_rate[suicide_rate.sex == \"male\"].groupby('year')['suicides/100k_pop']\\\n",
    "    .mean().reset_index().rename(columns={'suicides/100k_pop': 'Male_average_suicide_rate'})\n",
    "suicide_rate_women = suicide_rate[suicide_rate.sex == \"female\"].groupby('year')['suicides/100k_pop']\\\n",
    "    .mean().reset_index().rename(columns={'suicides/100k_pop': 'Female_average_suicide_rate'})\n",
    "print(suicide_rate_men)\n",
    "print(\"\\n\")\n",
    "print(suicide_rate_women)"
   ]
  },
  {
   "cell_type": "code",
   "execution_count": 27,
   "metadata": {},
   "outputs": [
    {
     "data": {
      "image/png": "[encoded data removed]",
      "text/plain": [
       "<Figure size 720x360 with 2 Axes>"
      ]
     },
     "metadata": {
      "needs_background": "light"
     },
     "output_type": "display_data"
    }
   ],
   "source": [
    "fig, axes = plt.subplots(1, 2, figsize=(10, 5))\n",
    "axes[0].set_title('Average suicide rate by gender')\n",
    "sns.barplot(ax=axes[0], x='sex', y='average_suicide_rate', hue='sex', hue_order=[\n",
    "            'male', 'female'], dodge=False, data=suicide_rate_gender)\n",
    "sns.lineplot(ax=axes[1], x='year', y='Male_average_suicide_rate',\n",
    "             markers=True, data=suicide_rate_men,  ci=None)\n",
    "sns.lineplot(ax=axes[1], x='year', y='Female_average_suicide_rate',\n",
    "             markers=True, data=suicide_rate_women, ci=None)\n",
    "axes[1].legend([\"male\", 'female'])\n",
    "axes[1].set(xlabel='year', ylabel='average suicide rate')\n",
    "axes[1].set_title(\"Average suicide rate by gender over time\")\n",
    "plt.tight_layout()"
   ]
  },
  {
   "cell_type": "markdown",
   "metadata": {},
   "source": [
    "**Insights**\n",
    "* Globally, the rate of suicide for **men has been 3.7x higher than women** from 1985 to 2015.\n",
    "* Both male & female suicide rates **peaked in 1995**, declining since then.\n",
    "* Worldwide **male** suicide rate peaked in **1995** with 24.91, which has **increased 39.34%** from the\n",
    "first year.\n",
    "* Worldwide **female** suicide rate peaked in **1995** with 6.42, which has **increased 11.13%** from the first year.\n",
    "* **In 2015**, worldwide **male** suicide rate was **17.53**. It means around 18 deaths per 100,000 men in 2015.\n",
    "* **In 2015**, worldwide **female** suicide rate was **4.65**. It means around 5 deaths per 100,000 women in 2015. "
   ]
  },
  {
   "cell_type": "markdown",
   "metadata": {},
   "source": [
    "- ### Worldwide Suicide Rate By Age"
   ]
  },
  {
   "cell_type": "code",
   "execution_count": 28,
   "metadata": {},
   "outputs": [
    {
     "name": "stdout",
     "output_type": "stream",
     "text": [
      "      age  average_suicide_rate\n",
      "0  05-14               0.620041\n",
      "1  15-24               8.957182\n",
      "2  25-34              12.199479\n",
      "3  35-54              14.958887\n",
      "4  55-74              16.163380\n",
      "5    75+              23.976614\n"
     ]
    }
   ],
   "source": [
    "# calculate average suicide rate by age\n",
    "suicide_rate_age = suicide_rate.groupby('age')['suicides/100k_pop']\\\n",
    "    .mean().reset_index().rename(columns={'suicides/100k_pop': 'average_suicide_rate'})\n",
    "\n",
    "print(suicide_rate_age)"
   ]
  },
  {
   "cell_type": "code",
   "execution_count": 29,
   "metadata": {},
   "outputs": [
    {
     "name": "stdout",
     "output_type": "stream",
     "text": [
      "     year     age  average_suicide_rate\n",
      "0    1985  05-14               0.537083\n",
      "1    1985  15-24               8.429688\n",
      "2    1985  25-34              10.008750\n",
      "3    1985  35-54              12.403021\n",
      "4    1985  55-74              15.094375\n",
      "..    ...     ...                   ...\n",
      "181  2015  15-24               7.773226\n",
      "182  2015  25-34              10.111774\n",
      "183  2015  35-54              12.555645\n",
      "184  2015  55-74              14.451774\n",
      "185  2015    75+              20.967339\n",
      "\n",
      "[186 rows x 3 columns]\n"
     ]
    }
   ],
   "source": [
    "# calculate average suicide rate by age by year\n",
    "suicide_rate_age_year = suicide_rate.groupby(['year', 'age'])['suicides/100k_pop']\\\n",
    "    .mean().reset_index().rename(columns={'suicides/100k_pop': 'average_suicide_rate'})\n",
    "\n",
    "print(suicide_rate_age_year)"
   ]
  },
  {
   "cell_type": "code",
   "execution_count": 30,
   "metadata": {},
   "outputs": [
    {
     "data": {
      "image/png": "[encoded data removed]",
      "text/plain": [
       "<Figure size 720x360 with 2 Axes>"
      ]
     },
     "metadata": {
      "needs_background": "light"
     },
     "output_type": "display_data"
    }
   ],
   "source": [
    "fig, axes = plt.subplots(1, 2, figsize=(10, 5))\n",
    "axes[0].set_title('Worldwide average suicide rate by Age')\n",
    "sns.barplot(ax=axes[0], x='age', y='average_suicide_rate',\n",
    "            hue='age', palette='Paired', dodge=False,  data=suicide_rate_age)\n",
    "axes[0].set(xlabel='age', ylabel='average suicide rate')\n",
    "sns.lineplot(ax=axes[1], x='year', y='average_suicide_rate', hue='age',\n",
    "             palette='Paired', style='age', markers=True, data=suicide_rate_age_year,  ci=None)\n",
    "axes[1].set(xlabel='year', ylabel='average suicide rate')\n",
    "axes[1].set_title(\"Wordwide suicides rate by Age over time\")\n",
    "axes[1].legend(loc='center left', bbox_to_anchor=(1, 0.5))\n",
    "plt.tight_layout()"
   ]
  },
  {
   "cell_type": "markdown",
   "metadata": {},
   "source": [
    "**Insight**\n",
    "* **75+** age group has the **highest** suicide rate globally.\n",
    "* **75+** age group **peaked around 1995**, declining since then.\n",
    "* **suicide rate increases as age increases**."
   ]
  },
  {
   "cell_type": "markdown",
   "metadata": {},
   "source": [
    "- ## By continent\n",
    "- ### Suicide Rate By Continent"
   ]
  },
  {
   "cell_type": "code",
   "execution_count": 31,
   "metadata": {},
   "outputs": [
    {
     "name": "stdout",
     "output_type": "stream",
     "text": [
      "       continent  average_suicide_rate\n",
      "3  North America              7.371629\n",
      "0         Africa              7.555131\n",
      "1           Asia             10.960335\n",
      "5  South America             11.428745\n",
      "4        Oceania             11.561831\n",
      "2         Europe             17.469470\n"
     ]
    }
   ],
   "source": [
    "# calculate the average suicide rate by continent\n",
    "suicide_rate_by_continent = suicide_rate.groupby('continent')['suicides/100k_pop']\\\n",
    "    .mean().reset_index().rename(columns={'suicides/100k_pop': 'average_suicide_rate'})\n",
    "continent_sorted = suicide_rate_by_continent.sort_values(\n",
    "    'average_suicide_rate', ascending=True)\n",
    "print(continent_sorted)"
   ]
  },
  {
   "cell_type": "code",
   "execution_count": 32,
   "metadata": {
    "scrolled": false
   },
   "outputs": [
    {
     "data": {
      "image/png": "[encoded data removed]",
      "text/plain": [
       "<Figure size 504x504 with 1 Axes>"
      ]
     },
     "metadata": {},
     "output_type": "display_data"
    }
   ],
   "source": [
    "# Reference:https://medium.com/@kvnamipara/a-better-visualisation-of-pie-charts-by-matplotlib-935b7667d77f\n",
    "fig, ax = plt.subplots(figsize=(7, 7))\n",
    "ax.set_title('Average Suicide Rate By Continent')\n",
    "# Pie chart\n",
    "labels = continent_sorted.continent\n",
    "sizes = continent_sorted.average_suicide_rate\n",
    "# colors\n",
    "colors = ['#ff9999', '#66b3ff', '#99ff99', '#ffcc99', '#ffcc69', '#fc6554']\n",
    "# explsion\n",
    "explode = (0.05, 0.05, 0.05, 0.05, 0.05, 0.05)\n",
    "plt.pie(sizes, colors=colors, labels=labels, autopct='%1.1f%%',\n",
    "        startangle=90, pctdistance=0.85, explode=explode)\n",
    "# draw circle\n",
    "centre_circle = plt.Circle((0, 0), 0.70, fc='white')\n",
    "fig = plt.gcf()\n",
    "fig.gca().add_artist(centre_circle)\n",
    "# Equal aspect ratio ensures that pie is drawn as a circle\n",
    "ax.axis('equal')\n",
    "plt.tight_layout()"
   ]
  },
  {
   "cell_type": "markdown",
   "metadata": {},
   "source": [
    "**Insight**\n",
    "* **Europe** is the **highest** suicide rate continent. \n",
    "* **North America** is the **lowest** suicide rate continent."
   ]
  },
  {
   "cell_type": "markdown",
   "metadata": {},
   "source": [
    "- ### Suicide Rate By Continent Over Time"
   ]
  },
  {
   "cell_type": "code",
   "execution_count": 33,
   "metadata": {},
   "outputs": [
    {
     "name": "stdout",
     "output_type": "stream",
     "text": [
      "         continent  year  average_suicide_rate\n",
      "0           Africa  1985             12.471250\n",
      "1           Africa  1986              2.222083\n",
      "2           Africa  1987              9.694167\n",
      "3           Africa  1988             20.509167\n",
      "4           Africa  1989             17.636667\n",
      "..             ...   ...                   ...\n",
      "181  South America  2011             13.067396\n",
      "182  South America  2012             15.219907\n",
      "183  South America  2013             13.013148\n",
      "184  South America  2014             11.798125\n",
      "185  South America  2015             10.764861\n",
      "\n",
      "[186 rows x 3 columns]\n",
      "\n",
      "\n",
      "**** The average suicide rate of each continent in 2015\n",
      "         continent  year  average_suicide_rate\n",
      "30          Africa  2015              5.395000\n",
      "61            Asia  2015              9.251667\n",
      "92          Europe  2015             14.364911\n",
      "123  North America  2015              6.520076\n",
      "154        Oceania  2015             12.848333\n",
      "185  South America  2015             10.764861\n"
     ]
    }
   ],
   "source": [
    "# calculate the average suicide rate by continent by year\n",
    "suicide_rate_by_continent_year = suicide_rate.groupby(['continent', 'year'])['suicides/100k_pop']\\\n",
    "    .mean().reset_index().rename(columns={'suicides/100k_pop': 'average_suicide_rate'})\n",
    "print(suicide_rate_by_continent_year)\n",
    "print(\"\\n\")\n",
    "print(\"**** The average suicide rate of each continent in 2015\")\n",
    "print(suicide_rate_by_continent_year[suicide_rate_by_continent_year['year'] == 2015])"
   ]
  },
  {
   "cell_type": "code",
   "execution_count": 34,
   "metadata": {},
   "outputs": [
    {
     "data": {
      "image/png": "[encoded data removed]",
      "text/plain": [
       "<Figure size 720x360 with 1 Axes>"
      ]
     },
     "metadata": {
      "needs_background": "light"
     },
     "output_type": "display_data"
    }
   ],
   "source": [
    "fig, ax = plt.subplots(figsize=(10, 5))\n",
    "sns.lineplot(x='year', y='average_suicide_rate', hue='continent', palette='Paired',\n",
    "             style='continent', markers=True, data=suicide_rate_by_continent_year,  ci=None)\n",
    "ax.set(xlabel='year', ylabel='average suicide rate')\n",
    "ax.set_title(\"Wordwide suicides rate by continent over time\")\n",
    "ax.legend(loc='center left', bbox_to_anchor=(1, 0.5))\n",
    "plt.tight_layout()"
   ]
  },
  {
   "cell_type": "markdown",
   "metadata": {},
   "source": [
    "**Insight**\n",
    "- **Europe** has the **highest** suicide rate overall but since **1995 it steadily decrease**. \n",
    "- In **2015**, **Europe** suicide rate is similar to **Oceania and South America**."
   ]
  },
  {
   "cell_type": "markdown",
   "metadata": {},
   "source": [
    "- ### Suicide Rate By Continent And Gender"
   ]
  },
  {
   "cell_type": "code",
   "execution_count": 35,
   "metadata": {},
   "outputs": [
    {
     "name": "stdout",
     "output_type": "stream",
     "text": [
      "       continent  Male_average_suicide_rate\n",
      "0         Africa                  12.063167\n",
      "1           Asia                  16.116825\n",
      "2         Europe                  27.735697\n",
      "3  North America                  12.248158\n",
      "4        Oceania                  18.243107\n",
      "5  South America                  18.290583\n",
      "\n",
      "\n",
      "       continent  Female_average_suicide_rate\n",
      "0         Africa                     3.047095\n",
      "1           Asia                     5.803845\n",
      "2         Europe                     7.203243\n",
      "3  North America                     2.495099\n",
      "4        Oceania                     4.880556\n",
      "5  South America                     4.566907\n"
     ]
    }
   ],
   "source": [
    "# Calculate suicide rate by continent by gender\n",
    "suicide_rate_men_continent = suicide_rate[suicide_rate.sex == \"male\"].groupby('continent')['suicides/100k_pop']\\\n",
    "    .mean().reset_index().rename(columns={'suicides/100k_pop': 'Male_average_suicide_rate'})\n",
    "suicide_rate_women_continent = suicide_rate[suicide_rate.sex == \"female\"].groupby('continent')['suicides/100k_pop']\\\n",
    "    .mean().reset_index().rename(columns={'suicides/100k_pop': 'Female_average_suicide_rate'})\n",
    "print(suicide_rate_men_continent)\n",
    "print(\"\\n\")\n",
    "print(suicide_rate_women_continent)"
   ]
  },
  {
   "cell_type": "code",
   "execution_count": 36,
   "metadata": {},
   "outputs": [
    {
     "data": {
      "image/png": "[encoded data removed]",
      "text/plain": [
       "<Figure size 720x360 with 1 Axes>"
      ]
     },
     "metadata": {
      "needs_background": "light"
     },
     "output_type": "display_data"
    }
   ],
   "source": [
    "N = 6\n",
    "ind = np.arange(N)    # the x locations for the groups\n",
    "width = 0.5       # the width of the bars: can also be len(x) sequence\n",
    "womenMeans = suicide_rate_women_continent.Female_average_suicide_rate\n",
    "menMeans = suicide_rate_men_continent.Male_average_suicide_rate\n",
    "plt.subplots(figsize=(10, 5))\n",
    "p1 = plt.bar(ind, menMeans, width)\n",
    "p2 = plt.bar(ind, womenMeans, width,\n",
    "             bottom=menMeans)\n",
    "\n",
    "plt.ylabel('Average Suicide Rate')\n",
    "plt.title('Average Suicide Rate by Cotinent and Gender')\n",
    "plt.xticks(ind, ('Africa', 'Asia', 'Europe',\n",
    "                 'North America', 'Oceania', 'South America'))\n",
    "\n",
    "plt.legend((p1[0], p2[0]), ('Men', 'Women'))\n",
    "plt.tight_layout()\n",
    "plt.show()"
   ]
  },
  {
   "cell_type": "markdown",
   "metadata": {},
   "source": [
    "**Insight**\n",
    "* **European** were at the **highest risk** between 1985 and 2015\n",
    "* **North America** was at the **lowest risk** between 1985 and 2015\n",
    "* **Male** had **higher** suicides rate than **female in All continents** between 1985 and 2015."
   ]
  },
  {
   "cell_type": "markdown",
   "metadata": {},
   "source": [
    "- ### Suicide Rate By Continent And Age"
   ]
  },
  {
   "cell_type": "code",
   "execution_count": 37,
   "metadata": {},
   "outputs": [
    {
     "name": "stdout",
     "output_type": "stream",
     "text": [
      "        continent     age  average_suicide_rate\n",
      "0          Africa  05-14               0.598714\n",
      "1          Africa  15-24               7.852214\n",
      "2          Africa  25-34              10.107071\n",
      "3          Africa  35-54              10.532857\n",
      "4          Africa  55-74               7.331071\n",
      "5          Africa    75+               8.908857\n",
      "6            Asia  05-14               0.626772\n",
      "7            Asia  15-24               7.749571\n",
      "8            Asia  25-34              10.609819\n",
      "9            Asia  35-54              11.729616\n",
      "10           Asia  55-74              13.458318\n",
      "11           Asia    75+              21.587912\n",
      "12         Europe  05-14               0.567595\n",
      "13         Europe  15-24              10.026186\n",
      "14         Europe  25-34              15.016531\n",
      "15         Europe  35-54              21.122733\n",
      "16         Europe  55-74              23.319809\n",
      "17         Europe    75+              34.763967\n",
      "18  North America  05-14               0.467877\n",
      "19  North America  15-24               6.141736\n",
      "20  North America  25-34               8.243879\n",
      "21  North America  35-54               8.717649\n",
      "22  North America  55-74               8.647877\n",
      "23  North America    75+              12.010754\n",
      "24        Oceania  05-14               0.919012\n",
      "25        Oceania  15-24              14.942840\n",
      "26        Oceania  25-34              14.764074\n",
      "27        Oceania  35-54              13.186111\n",
      "28        Oceania  55-74              11.468457\n",
      "29        Oceania    75+              14.090494\n",
      "30  South America  05-14               1.002148\n",
      "31  South America  15-24              11.000247\n",
      "32  South America  25-34              12.113099\n",
      "33  South America  35-54              11.958498\n",
      "34  South America  55-74              13.231958\n",
      "35  South America    75+              19.266521\n"
     ]
    }
   ],
   "source": [
    "# calculate average suicide rate by continent and age\n",
    "suicide_rate_age_continent = suicide_rate.groupby(['continent', 'age'])['suicides/100k_pop']\\\n",
    "    .mean().reset_index().rename(columns={'suicides/100k_pop': 'average_suicide_rate'})\n",
    "\n",
    "print(suicide_rate_age_continent)"
   ]
  },
  {
   "cell_type": "code",
   "execution_count": 38,
   "metadata": {},
   "outputs": [
    {
     "data": {
      "image/png": "[encoded data removed]",
      "text/plain": [
       "<Figure size 576x576 with 1 Axes>"
      ]
     },
     "metadata": {
      "needs_background": "light"
     },
     "output_type": "display_data"
    }
   ],
   "source": [
    "# Draw a nested barplot by species and sex\n",
    "g = sns.catplot(\n",
    "    data=suicide_rate_age_continent, kind=\"bar\",\n",
    "    x='continent', y='average_suicide_rate', hue='age',\n",
    "    ci=\"sd\", palette=\"Paired\", height=8, legend=False\n",
    ")\n",
    "g.set_axis_labels('continent', 'average suicide rate')\n",
    "plt.legend(title='Age', loc=2)\n",
    "plt.title(\"Average suicide rate by age by continent\")\n",
    "plt.tight_layout()\n",
    "plt.show()"
   ]
  },
  {
   "cell_type": "markdown",
   "metadata": {},
   "source": [
    "**Insights**\n",
    "* For **Europe, Asia**, suicide rate **increases as age increases.**\n",
    "*  **75+ age group European have the highest suicide rate.**"
   ]
  },
  {
   "cell_type": "markdown",
   "metadata": {},
   "source": [
    "- ## By country\n",
    "- ### Top 10 Country With Highest Suicide Rate"
   ]
  },
  {
   "cell_type": "code",
   "execution_count": 39,
   "metadata": {},
   "outputs": [
    {
     "name": "stdout",
     "output_type": "stream",
     "text": [
      "*** top 10 country with highest suicide rate***\n",
      "               country  average_suicide_rate\n",
      "52           Lithuania             40.583968\n",
      "86           Sri Lanka             35.295152\n",
      "73  Russian Federation             34.892377\n",
      "40             Hungary             33.049100\n",
      "11             Belarus             31.075913\n",
      "47          Kazakhstan             30.511282\n",
      "51              Latvia             29.259325\n",
      "82            Slovenia             27.827857\n",
      "30             Estonia             27.276905\n",
      "94             Ukraine             26.582321\n",
      "\n",
      "\n",
      "*** top 10 country with highest suicide rate in 2015***\n",
      "               country  average_suicide_rate\n",
      "51         South Korea             32.428333\n",
      "31           Lithuania             32.123333\n",
      "61             Uruguay             22.501667\n",
      "49            Slovenia             22.067500\n",
      "23             Hungary             21.439167\n",
      "30              Latvia             20.955833\n",
      "58             Ukraine             20.393333\n",
      "28          Kazakhstan             19.835000\n",
      "44  Russian Federation             19.743333\n",
      "10             Croatia             19.140000\n"
     ]
    }
   ],
   "source": [
    "# top 10 countries have highest suicide rate\n",
    "top_10_country = suicide_rate.groupby('country')['suicides/100k_pop']\\\n",
    "    .mean().reset_index().rename(columns={'suicides/100k_pop': 'average_suicide_rate'})\\\n",
    "    .sort_values('average_suicide_rate',  ascending=False).head(10)\n",
    "\n",
    "print(\"*** top 10 country with highest suicide rate***\")\n",
    "print(top_10_country)\n",
    "print(\"\\n\")\n",
    "\n",
    "top_10_country_2015 = suicide_rate[suicide_rate['year'] == 2015].groupby('country')['suicides/100k_pop']\\\n",
    "    .mean().reset_index().rename(columns={'suicides/100k_pop': 'average_suicide_rate'})\\\n",
    "    .sort_values('average_suicide_rate',  ascending=False).head(10)\n",
    "print(\"*** top 10 country with highest suicide rate in 2015***\")\n",
    "print(top_10_country_2015)"
   ]
  },
  {
   "cell_type": "code",
   "execution_count": 40,
   "metadata": {},
   "outputs": [
    {
     "data": {
      "image/png": "[encoded data removed]",
      "text/plain": [
       "<Figure size 720x360 with 1 Axes>"
      ]
     },
     "metadata": {
      "needs_background": "light"
     },
     "output_type": "display_data"
    }
   ],
   "source": [
    "fig, ax = plt.subplots(figsize=(10, 5))\n",
    "sns.barplot(x=\"average_suicide_rate\", y=\"country\",\n",
    "            data=top_10_country, palette=\"RdYlGn\", orient='h')\n",
    "ax.set(xlabel='average suicide rate per (100k)', ylabel='country')\n",
    "ax.set_title(\"top 10 country with highest suicide rate overall\")\n",
    "plt.tight_layout()"
   ]
  },
  {
   "cell_type": "code",
   "execution_count": 41,
   "metadata": {},
   "outputs": [
    {
     "data": {
      "image/png": "[encoded data removed]",
      "text/plain": [
       "<Figure size 720x360 with 1 Axes>"
      ]
     },
     "metadata": {
      "needs_background": "light"
     },
     "output_type": "display_data"
    }
   ],
   "source": [
    "fig, ax = plt.subplots(figsize=(10, 5))\n",
    "sns.barplot(x=\"average_suicide_rate\", y=\"country\",\n",
    "            data=top_10_country_2015, palette=\"RdYlGn\", orient='h')\n",
    "ax.set(xlabel='average suicide rate per (100k)', ylabel='country')\n",
    "plt.title(\"top 10 country with highest suicide rate in 2015\")\n",
    "plt.tight_layout()"
   ]
  },
  {
   "cell_type": "markdown",
   "metadata": {},
   "source": [
    "**Insights**\n",
    "\n",
    "* **Lithuania has the highest suicide rate overall but in 2015 it moved to second place**. \n",
    "* **South Korea has the highest suicide rate in 2015** "
   ]
  },
  {
   "cell_type": "markdown",
   "metadata": {},
   "source": [
    "- ### Suicide Rate By Gender in TOP 10 highest suicide rate countries"
   ]
  },
  {
   "cell_type": "code",
   "execution_count": 42,
   "metadata": {},
   "outputs": [],
   "source": [
    "# get the top 10 highest suicide rate countries\n",
    "countries = []\n",
    "for country in top_10_country.country:\n",
    "    countries.append(country)"
   ]
  },
  {
   "cell_type": "code",
   "execution_count": 43,
   "metadata": {},
   "outputs": [
    {
     "name": "stdout",
     "output_type": "stream",
     "text": [
      "               country     sex  average_suicide_rate\n",
      "11           Lithuania    male             68.136667\n",
      "13  Russian Federation    male             58.183704\n",
      "17           Sri Lanka    male             55.091667\n",
      "1              Belarus    male             52.757619\n",
      "5              Hungary    male             51.864600\n",
      "7           Kazakhstan    male             50.014038\n",
      "9               Latvia    male             48.775873\n",
      "15            Slovenia    male             45.174206\n",
      "3              Estonia    male             45.056984\n",
      "19             Ukraine    male             44.253393\n",
      "16           Sri Lanka  female             15.498636\n",
      "4              Hungary  female             14.233600\n",
      "10           Lithuania  female             13.031270\n",
      "12  Russian Federation  female             11.601049\n",
      "6           Kazakhstan  female             11.008526\n",
      "14            Slovenia  female             10.481508\n",
      "8               Latvia  female              9.742778\n",
      "2              Estonia  female              9.496825\n",
      "0              Belarus  female              9.394206\n",
      "18             Ukraine  female              8.911250\n"
     ]
    }
   ],
   "source": [
    "# calculate the suicide rate by gender in TOP 10 highest suicide rate countries\n",
    "country_gender = suicide_rate[suicide_rate['country'].isin(countries)].groupby(['country', 'sex'])['suicides/100k_pop']\\\n",
    "    .mean().reset_index().rename(columns={'suicides/100k_pop': 'average_suicide_rate'})\\\n",
    "    .sort_values('average_suicide_rate',  ascending=False)\n",
    "print(country_gender)"
   ]
  },
  {
   "cell_type": "code",
   "execution_count": 44,
   "metadata": {},
   "outputs": [
    {
     "data": {
      "image/png": "[encoded data removed]",
      "text/plain": [
       "<Figure size 720x360 with 1 Axes>"
      ]
     },
     "metadata": {
      "needs_background": "light"
     },
     "output_type": "display_data"
    }
   ],
   "source": [
    "fig, ax = plt.subplots(figsize=(10, 5))\n",
    "sns.barplot(x=\"average_suicide_rate\", y=\"country\",\n",
    "            data=country_gender, hue='sex', orient='h')\n",
    "ax.set(xlabel='average suicide rate per (100k)', ylabel='country')\n",
    "plt.title(\"Suicide Rate By Gender in TOP 10 highest suicide rate countries\")\n",
    "plt.tight_layout()"
   ]
  },
  {
   "cell_type": "markdown",
   "metadata": {},
   "source": [
    "**Insight**\n",
    "* In TOP 10 highest suicide rate countries, **male suicide rate is much higher than female**."
   ]
  },
  {
   "cell_type": "markdown",
   "metadata": {},
   "source": [
    "- ### Suicide Rate By Age In TOP 10 Highest Suicide Rate Countries"
   ]
  },
  {
   "cell_type": "code",
   "execution_count": 45,
   "metadata": {},
   "outputs": [],
   "source": [
    "#calculate suicide rate by age in TOP 10 highest suicide rate countries\n",
    "country_age = suicide_rate[suicide_rate['country'].isin(countries)].groupby(['country', 'age'])['suicides/100k_pop']\\\n",
    "    .mean().reset_index().rename(columns={'suicides/100k_pop': 'average_suicide_rate'})\\\n",
    "    .sort_values('average_suicide_rate',  ascending=False)"
   ]
  },
  {
   "cell_type": "code",
   "execution_count": 46,
   "metadata": {},
   "outputs": [
    {
     "data": {
      "image/png": "[encoded data removed]",
      "text/plain": [
       "<Figure size 720x720 with 1 Axes>"
      ]
     },
     "metadata": {
      "needs_background": "light"
     },
     "output_type": "display_data"
    }
   ],
   "source": [
    "fig, ax = plt.subplots(figsize=(10, 10))\n",
    "sns.barplot(x=\"average_suicide_rate\", y=\"country\",\n",
    "            data=country_age, hue='age', palette='Paired', orient='h')\n",
    "ax.set(xlabel='average suicide rate per (100k)', ylabel='country')\n",
    "plt.title(\"Suicide Rate By Age In TOP 10 Highest Suicide Rate Countries\")\n",
    "plt.tight_layout()"
   ]
  },
  {
   "cell_type": "markdown",
   "metadata": {},
   "source": [
    "**Insight**\n",
    "* **75+ age group have the highest suicide rate in all top 10 highest suicide rate countries except Lithuania**.\n",
    "* **In Lithuania, 35-54 age group have the highest suicide rate**. \n",
    "* **In hungary, 75+ age group have the highest suicide rate**. "
   ]
  },
  {
   "cell_type": "markdown",
   "metadata": {},
   "source": [
    "- ## Correlation between GDP Per Capita and Suicide Rate"
   ]
  },
  {
   "cell_type": "code",
   "execution_count": 47,
   "metadata": {},
   "outputs": [
    {
     "name": "stdout",
     "output_type": "stream",
     "text": [
      "        continent       country  average gdp per captita  average suicide rate\n",
      "0          Africa    Cabo Verde              4124.000000             11.153333\n",
      "1          Africa     Mauritius              5370.548387             11.734624\n",
      "2          Africa    Seychelles             10655.722222              7.480093\n",
      "3          Africa  South Africa              5589.500000              0.964542\n",
      "4            Asia       Armenia              1807.458333              3.248785\n",
      "..            ...           ...                      ...                   ...\n",
      "95  South America       Ecuador              3286.258065              6.304328\n",
      "96  South America        Guyana              1674.920000             22.186400\n",
      "97  South America      Paraguay              2365.777778              4.217191\n",
      "98  South America      Suriname              4351.964286             21.316429\n",
      "99  South America       Uruguay              7622.071429             19.461190\n",
      "\n",
      "[100 rows x 4 columns]\n"
     ]
    }
   ],
   "source": [
    "# calculate GDP Per Capital by continent\n",
    "gdp_continent = suicide_rate.groupby(['continent', 'country'])['gdp_per_capita_($)']\\\n",
    "    .mean().reset_index().rename(columns={'gdp_per_capita_($)': 'average gdp per captita'})\n",
    "\n",
    "# calculate suicide rate by continent and country\n",
    "suicide_rate_continent_country = suicide_rate.groupby(['continent', 'country'])['suicides/100k_pop']\\\n",
    "    .mean().reset_index().rename(columns={'suicides/100k_pop': 'average suicide rate'})\n",
    "\n",
    "# merge two dataframes\n",
    "gdp_suicide = pd.merge(gdp_continent, suicide_rate_continent_country, on=[\n",
    "                       'continent', 'country'], how='outer')\n",
    "print(gdp_suicide)"
   ]
  },
  {
   "cell_type": "code",
   "execution_count": 48,
   "metadata": {},
   "outputs": [
    {
     "name": "stdout",
     "output_type": "stream",
     "text": [
      "LinearRegression()\n",
      "intercept is  11.586\n",
      "coefficient is  0.0\n",
      "R-squared is  0.002\n"
     ]
    },
    {
     "data": {
      "image/png": "[encoded data removed]",
      "text/plain": [
       "<Figure size 720x360 with 1 Axes>"
      ]
     },
     "metadata": {
      "needs_background": "light"
     },
     "output_type": "display_data"
    }
   ],
   "source": [
    "lm = LinearRegression()\n",
    "X = gdp_suicide[['average gdp per captita']]\n",
    "y = gdp_suicide['average suicide rate']\n",
    "print(lm.fit(X, y))\n",
    "\n",
    "\n",
    "# smallest and largest observed values\n",
    "X_new = [[gdp_suicide['average gdp per captita'].min()], [\n",
    "    gdp_suicide['average gdp per captita'].max()]]\n",
    "pred = lm.predict(X_new)  # y value\n",
    "\n",
    "# scatter plot\n",
    "plt.subplots(figsize=(10, 5))\n",
    "sns.scatterplot('average gdp per captita', 'average suicide rate',\n",
    "                hue='continent', data=gdp_suicide)\n",
    "\n",
    "# Then, plot the least squares line\n",
    "plt.plot(X_new, pred, c='red', linewidth=2)\n",
    "plt.title(\"Correlation between GDP (per capita) and Suicide Rate(per 100k)\")\n",
    "plt.tight_layout()\n",
    "\n",
    "# print intercept and coefficients\n",
    "print('intercept is ', str(round(lm.intercept_, 3)))\n",
    "print('coefficient is ', str(np.round(lm.coef_, 3)[0]))\n",
    "\n",
    "# calculate the R-squared\n",
    "print('R-squared is ', str(round(lm.score(X, y), 3)))"
   ]
  },
  {
   "cell_type": "markdown",
   "metadata": {},
   "source": [
    "**Insight**\n",
    "* Each data point represents each country.  \n",
    "* As we can see from the scatterplot, there is **no correlation between GDP(per capita) and Suicide Rate(per 100k)**. \n",
    "* The r-squared is 0.002, so **GDP (per capita) explains very little of the variance** in suicide rate overall."
   ]
  },
  {
   "cell_type": "markdown",
   "metadata": {},
   "source": [
    "# Feature engineering "
   ]
  },
  {
   "cell_type": "markdown",
   "metadata": {},
   "source": [
    "- ## Correlation Heatmap"
   ]
  },
  {
   "cell_type": "markdown",
   "metadata": {},
   "source": [
    "**Insight**\n",
    "* Use correlation heatmap to see how the variables correlated. "
   ]
  },
  {
   "cell_type": "code",
   "execution_count": 49,
   "metadata": {},
   "outputs": [
    {
     "data": {
      "image/png": "[encoded data removed]",
      "text/plain": [
       "<Figure size 576x576 with 2 Axes>"
      ]
     },
     "metadata": {
      "needs_background": "light"
     },
     "output_type": "display_data"
    }
   ],
   "source": [
    "# Correlation heatmap\n",
    "plt.figure(figsize=(8, 8))\n",
    "sns.heatmap(suicide_rate.corr(), annot=True, cmap='Oranges')\n",
    "plt.tight_layout()"
   ]
  },
  {
   "cell_type": "markdown",
   "metadata": {},
   "source": [
    "**Insight**\n",
    "\n",
    "* from the heatmap above, we can see the correlation between **suicides_no** and **population** is **0.62** and the correlation between **gdp_for_year_($)** and **population** is **0.71**. They are correlated. **I consider values above 0.75 as highly correlated**. "
   ]
  },
  {
   "cell_type": "markdown",
   "metadata": {},
   "source": [
    "- ## Variance Inflation Factor(VIF)"
   ]
  },
  {
   "cell_type": "markdown",
   "metadata": {},
   "source": [
    "* Check the muliticollinearity by another method **Variance Inflation Factor(VIF)**. It quantifies the severity of multicollinearity in an ordinary least squares regression analysis. VIF value can be interpreted as\n",
    "    * **1 (Non-collinear)**\n",
    "    * **1–5 (Medium collinear)**\n",
    "    * **above 5 (Highly collinear)**"
   ]
  },
  {
   "cell_type": "markdown",
   "metadata": {},
   "source": [
    "**Reference:https://towardsdatascience.com/https-towardsdatascience-com-multicollinearity-how-does-it-create-a-problem-72956a49058**"
   ]
  },
  {
   "cell_type": "code",
   "execution_count": 50,
   "metadata": {},
   "outputs": [
    {
     "name": "stdout",
     "output_type": "stream",
     "text": [
      "[3.7061880203700674e-05, 1.6128361422348907, 2.7496067463014806, 2.522691310795178, 1.1514370540633412]\n"
     ]
    }
   ],
   "source": [
    "y = suicide_rate['suicides/100k_pop']\n",
    "\n",
    "# drop categorical variables and target variabels\n",
    "X = suicide_rate.drop(['suicides/100k_pop', 'age', 'sex',\n",
    "                       'generation', 'country', 'continent'], axis=1)\n",
    "\n",
    "vif = [variance_inflation_factor(X.values, i) for i in range(len(X.columns))]\n",
    "\n",
    "print(vif)"
   ]
  },
  {
   "cell_type": "code",
   "execution_count": 51,
   "metadata": {},
   "outputs": [
    {
     "name": "stdout",
     "output_type": "stream",
     "text": [
      "['year', 'suicides_no', 'population', 'gdp_for_year_($)', 'gdp_per_capita_($)']\n"
     ]
    }
   ],
   "source": [
    "print(list(X.columns.values))"
   ]
  },
  {
   "cell_type": "code",
   "execution_count": 52,
   "metadata": {},
   "outputs": [
    {
     "data": {
      "image/png": "[encoded data removed]",
      "text/plain": [
       "<Figure size 576x360 with 1 Axes>"
      ]
     },
     "metadata": {
      "needs_background": "light"
     },
     "output_type": "display_data"
    }
   ],
   "source": [
    "plt.figure(figsize=(8, 5))\n",
    "sns.barplot(vif, list(X.columns.values), palette='RdYlGn', orient='h')\n",
    "plt.xlabel(\"VIF Value\")\n",
    "plt.tight_layout()"
   ]
  },
  {
   "cell_type": "markdown",
   "metadata": {},
   "source": [
    "**Insight**\n",
    "* **All VIFs are below 5 (Medium collinear). Just like the result of correlation heatmap, they are correlated but not highly correlated. I will use mlxtend pacakge to do feature selection later.**"
   ]
  },
  {
   "cell_type": "markdown",
   "metadata": {},
   "source": [
    "- ## Encoding Categorical Features "
   ]
  },
  {
   "cell_type": "markdown",
   "metadata": {},
   "source": [
    "* The **Age** feature has 6 unique age groups which needs to be encoded.\n",
    "* **Sex** need be encoded.\n",
    "* The **generation** feature has 6 types of generations which needs to be encoded as well.\n",
    "* **country** and **continent** need be encoded. "
   ]
  },
  {
   "cell_type": "code",
   "execution_count": 53,
   "metadata": {},
   "outputs": [
    {
     "data": {
      "text/html": [
       "<div>\n",
       "<style scoped>\n",
       "    .dataframe tbody tr th:only-of-type {\n",
       "        vertical-align: middle;\n",
       "    }\n",
       "\n",
       "    .dataframe tbody tr th {\n",
       "        vertical-align: top;\n",
       "    }\n",
       "\n",
       "    .dataframe thead th {\n",
       "        text-align: right;\n",
       "    }\n",
       "</style>\n",
       "<table border=\"1\" class=\"dataframe\">\n",
       "  <thead>\n",
       "    <tr style=\"text-align: right;\">\n",
       "      <th></th>\n",
       "      <th>country</th>\n",
       "      <th>year</th>\n",
       "      <th>sex</th>\n",
       "      <th>age</th>\n",
       "      <th>suicides_no</th>\n",
       "      <th>population</th>\n",
       "      <th>suicides/100k_pop</th>\n",
       "      <th>gdp_for_year_($)</th>\n",
       "      <th>gdp_per_capita_($)</th>\n",
       "      <th>generation</th>\n",
       "      <th>continent</th>\n",
       "    </tr>\n",
       "  </thead>\n",
       "  <tbody>\n",
       "    <tr>\n",
       "      <th>0</th>\n",
       "      <td>0</td>\n",
       "      <td>1987</td>\n",
       "      <td>1</td>\n",
       "      <td>1</td>\n",
       "      <td>21</td>\n",
       "      <td>312900</td>\n",
       "      <td>6.71</td>\n",
       "      <td>2.156625e+09</td>\n",
       "      <td>796</td>\n",
       "      <td>2</td>\n",
       "      <td>2</td>\n",
       "    </tr>\n",
       "    <tr>\n",
       "      <th>1</th>\n",
       "      <td>0</td>\n",
       "      <td>1987</td>\n",
       "      <td>1</td>\n",
       "      <td>3</td>\n",
       "      <td>16</td>\n",
       "      <td>308000</td>\n",
       "      <td>5.19</td>\n",
       "      <td>2.156625e+09</td>\n",
       "      <td>796</td>\n",
       "      <td>5</td>\n",
       "      <td>2</td>\n",
       "    </tr>\n",
       "    <tr>\n",
       "      <th>2</th>\n",
       "      <td>0</td>\n",
       "      <td>1987</td>\n",
       "      <td>0</td>\n",
       "      <td>1</td>\n",
       "      <td>14</td>\n",
       "      <td>289700</td>\n",
       "      <td>4.83</td>\n",
       "      <td>2.156625e+09</td>\n",
       "      <td>796</td>\n",
       "      <td>2</td>\n",
       "      <td>2</td>\n",
       "    </tr>\n",
       "    <tr>\n",
       "      <th>3</th>\n",
       "      <td>0</td>\n",
       "      <td>1987</td>\n",
       "      <td>1</td>\n",
       "      <td>5</td>\n",
       "      <td>1</td>\n",
       "      <td>21800</td>\n",
       "      <td>4.59</td>\n",
       "      <td>2.156625e+09</td>\n",
       "      <td>796</td>\n",
       "      <td>1</td>\n",
       "      <td>2</td>\n",
       "    </tr>\n",
       "    <tr>\n",
       "      <th>4</th>\n",
       "      <td>0</td>\n",
       "      <td>1987</td>\n",
       "      <td>1</td>\n",
       "      <td>2</td>\n",
       "      <td>9</td>\n",
       "      <td>274300</td>\n",
       "      <td>3.28</td>\n",
       "      <td>2.156625e+09</td>\n",
       "      <td>796</td>\n",
       "      <td>0</td>\n",
       "      <td>2</td>\n",
       "    </tr>\n",
       "  </tbody>\n",
       "</table>\n",
       "</div>"
      ],
      "text/plain": [
       "   country  year  sex  age  suicides_no  population  suicides/100k_pop  \\\n",
       "0        0  1987    1    1           21      312900               6.71   \n",
       "1        0  1987    1    3           16      308000               5.19   \n",
       "2        0  1987    0    1           14      289700               4.83   \n",
       "3        0  1987    1    5            1       21800               4.59   \n",
       "4        0  1987    1    2            9      274300               3.28   \n",
       "\n",
       "   gdp_for_year_($)  gdp_per_capita_($)  generation  continent  \n",
       "0      2.156625e+09                 796           2          2  \n",
       "1      2.156625e+09                 796           5          2  \n",
       "2      2.156625e+09                 796           2          2  \n",
       "3      2.156625e+09                 796           1          2  \n",
       "4      2.156625e+09                 796           0          2  "
      ]
     },
     "execution_count": 53,
     "metadata": {},
     "output_type": "execute_result"
    }
   ],
   "source": [
    "# encoding the categorical features using LabelEncoder\n",
    "\n",
    "columns = ['age', 'sex', 'generation', 'country', 'continent']\n",
    "\n",
    "for column in columns:\n",
    "    suicide_rate[column] = sklearn.preprocessing.LabelEncoder(\n",
    "    ).fit_transform(suicide_rate[column])\n",
    "\n",
    "suicide_rate.head()"
   ]
  },
  {
   "cell_type": "markdown",
   "metadata": {},
   "source": [
    "- ## Feature Scaling "
   ]
  },
  {
   "cell_type": "code",
   "execution_count": 54,
   "metadata": {},
   "outputs": [],
   "source": [
    "# create X and y\n",
    "scaler = StandardScaler()\n",
    "X = suicide_rate.drop('suicides/100k_pop', axis=1)\n",
    "X = scaler.fit_transform(X)\n",
    "y = suicide_rate['suicides/100k_pop']"
   ]
  },
  {
   "cell_type": "markdown",
   "metadata": {},
   "source": [
    "- ## Split The Data Into Train And Test sets"
   ]
  },
  {
   "cell_type": "code",
   "execution_count": 55,
   "metadata": {},
   "outputs": [
    {
     "data": {
      "text/plain": [
       "((22128, 10), (5532, 10))"
      ]
     },
     "execution_count": 55,
     "metadata": {},
     "output_type": "execute_result"
    }
   ],
   "source": [
    "# Split the dataset into train and test sets: 80-20 split using the train_test_split method\n",
    "X_train, X_test, y_train, y_test = train_test_split(\n",
    "    X, y, test_size=0.2, random_state=12)\n",
    "\n",
    "X_train.shape, X_test.shape"
   ]
  },
  {
   "cell_type": "markdown",
   "metadata": {},
   "source": [
    "# Methodology \n"
   ]
  },
  {
   "cell_type": "markdown",
   "metadata": {},
   "source": [
    "**Since the data used to train the algorithm is already labeled and target values are continuous. I am gonna use supervised machine learning regression algorithms on this data set.**"
   ]
  },
  {
   "cell_type": "code",
   "execution_count": 56,
   "metadata": {},
   "outputs": [],
   "source": [
    "# Creating empty lists to store the model performance results\n",
    "ML_Model = []\n",
    "num_of_feature = []\n",
    "rmse_Model = []\n",
    "\n",
    "# Creating function to call for storing the results\n",
    "\n",
    "\n",
    "def storeResults(model, a, b):\n",
    "    ML_Model.append(model)\n",
    "    num_of_feature.append(a)\n",
    "    rmse_Model.append(round(b, 3))"
   ]
  },
  {
   "cell_type": "markdown",
   "metadata": {},
   "source": [
    "- ## Linear Regression"
   ]
  },
  {
   "cell_type": "markdown",
   "metadata": {},
   "source": [
    "- ### Include All Features "
   ]
  },
  {
   "cell_type": "code",
   "execution_count": 57,
   "metadata": {},
   "outputs": [
    {
     "name": "stdout",
     "output_type": "stream",
     "text": [
      "R-squared with a single train/test split: 0.36423069146217046\n",
      "\n",
      "\n",
      "{'fit_time': array([0.02766705, 0.01660895, 0.02058005, 0.0323441 , 0.01268721,\n",
      "       0.01225495, 0.01098132, 0.01460195, 0.01309609, 0.01335382]), 'score_time': array([0.00274396, 0.00159192, 0.00459695, 0.00206995, 0.00148773,\n",
      "       0.00274515, 0.00143576, 0.00244713, 0.00178814, 0.00267196]), 'test_neg_root_mean_squared_error': array([-14.95750238, -15.42330662, -13.21790754, -14.87836725,\n",
      "       -17.59205573, -19.251507  ,  -9.79675789, -17.46482909,\n",
      "       -17.21949166, -13.36073774]), 'test_r2': array([0.04195777, 0.32212721, 0.36355703, 0.35490762, 0.33642083,\n",
      "       0.24663002, 0.21110989, 0.44886937, 0.32994978, 0.30913114])}\n"
     ]
    }
   ],
   "source": [
    "# instantiate the model\n",
    "lm = LinearRegression()\n",
    "\n",
    "# fit the model\n",
    "lm.fit(X_train, y_train)\n",
    "\n",
    "print(\"R-squared with a single train/test split:\", lm.score(X_test, y_test))\n",
    "print(\"\\n\")\n",
    "# Perform the training using KFolds cross validation method.\n",
    "lr_score = cross_validate(lm, X, y, cv=10, scoring=[\n",
    "                          'neg_root_mean_squared_error', 'r2'])\n",
    "print(lr_score)"
   ]
  },
  {
   "cell_type": "code",
   "execution_count": 58,
   "metadata": {},
   "outputs": [
    {
     "name": "stdout",
     "output_type": "stream",
     "text": [
      "[14.95750238 15.42330662 13.21790754 14.87836725 17.59205573 19.251507\n",
      "  9.79675789 17.46482909 17.21949166 13.36073774]\n",
      "Mean 10-Fold RMSE : 15.316246290035043\n",
      "Mean 10-Fold R Sqaured: 0.2964660669037282\n"
     ]
    }
   ],
   "source": [
    "# fix the sign of RMSE scores\n",
    "rmse_scores = -lr_score['test_neg_root_mean_squared_error']\n",
    "print(rmse_scores)\n",
    "\n",
    "# calculate the average RMSE\n",
    "print(\"Mean 10-Fold RMSE :\", rmse_scores.mean())\n",
    "\n",
    "# calculate r2\n",
    "lr_r2_score = lr_score['test_r2']\n",
    "print(\"Mean 10-Fold R Sqaured:\", lr_r2_score.mean())"
   ]
  },
  {
   "cell_type": "code",
   "execution_count": 59,
   "metadata": {},
   "outputs": [],
   "source": [
    "# store the results by call the function storeResults\n",
    "storeResults('Linear Regression with All features',\n",
    "             X.shape[1], rmse_scores.mean())"
   ]
  },
  {
   "cell_type": "markdown",
   "metadata": {},
   "source": [
    "**Insight**\n",
    "* with all features linear regression model still has a poor performance since r2 score is relative low.\n",
    "* the model explains 29.6% of the variability of the response data around its mean"
   ]
  },
  {
   "cell_type": "markdown",
   "metadata": {},
   "source": [
    "- ### Sequential Forward Selection"
   ]
  },
  {
   "cell_type": "markdown",
   "metadata": {},
   "source": [
    "**reference**: https://www.analyticsvidhya.com/blog/2020/10/a-comprehensive-guide-to-feature-selection-using-wrapper-methods-in-python/\n",
    "https://www.kaggle.com/ar2017/basics-of-feature-selection-with-python"
   ]
  },
  {
   "cell_type": "code",
   "execution_count": 60,
   "metadata": {},
   "outputs": [
    {
     "name": "stdout",
     "output_type": "stream",
     "text": [
      "Number of features before transformation:  10\n",
      "Number of features after transformation:  6\n",
      "Best CV RMSE: 15.123533686641618\n",
      "Best subset (indices): (1, 2, 3, 4, 5, 8)\n",
      "Best subset (corresponding names): ('1', '2', '3', '4', '5', '8')\n"
     ]
    }
   ],
   "source": [
    "# Sequential Forward Selection(sfs)\n",
    "sfs = SFS(LinearRegression(),\n",
    "          k_features=\"best\",  # Consider any feature combination between 1 and 10\n",
    "          forward=True,\n",
    "          floating=False,\n",
    "          scoring='neg_root_mean_squared_error',\n",
    "          cv=10)\n",
    "\n",
    "sfs = sfs.fit(X, y)\n",
    "\n",
    "# Transform the dataset\n",
    "X_new = sfs.transform(X)\n",
    "\n",
    "# Print the results\n",
    "print('Number of features before transformation: ', X.shape[1])\n",
    "print('Number of features after transformation: ', X_new.shape[1])\n",
    "print('Best CV RMSE:', -sfs.k_score_)\n",
    "# k_feature_idx_ shows the index of features\n",
    "print('Best subset (indices):', sfs.k_feature_idx_)\n",
    "# that yield the best score\n",
    "\n",
    "print('Best subset (corresponding names):', sfs.k_feature_names_)"
   ]
  },
  {
   "cell_type": "markdown",
   "metadata": {},
   "source": [
    "**Notice that features names doesn't correspond to the column name. Since the package said if pandas DataFrames are used in the `fit` method, the 'feature_names' correspond to the column names. Otherwise, the\n",
    "feature names are string representation of the feature array indices. The 'feature_names' is new in v 0.13.0. https://github.com/rasbt/mlxtend/blob/master/mlxtend/feature_selection/sequential_feature_selector.py**"
   ]
  },
  {
   "cell_type": "code",
   "execution_count": 61,
   "metadata": {},
   "outputs": [
    {
     "data": {
      "text/plain": [
       "['year', 'sex', 'age', 'suicides_no', 'population', 'gdp_per_capita_($)']"
      ]
     },
     "execution_count": 61,
     "metadata": {},
     "output_type": "execute_result"
    }
   ],
   "source": [
    "# best subset feature names\n",
    "[suicide_rate.columns.values[i] for i in list(sfs.k_feature_idx_)]"
   ]
  },
  {
   "cell_type": "code",
   "execution_count": 62,
   "metadata": {},
   "outputs": [
    {
     "data": {
      "text/html": [
       "<div>\n",
       "<style scoped>\n",
       "    .dataframe tbody tr th:only-of-type {\n",
       "        vertical-align: middle;\n",
       "    }\n",
       "\n",
       "    .dataframe tbody tr th {\n",
       "        vertical-align: top;\n",
       "    }\n",
       "\n",
       "    .dataframe thead th {\n",
       "        text-align: right;\n",
       "    }\n",
       "</style>\n",
       "<table border=\"1\" class=\"dataframe\">\n",
       "  <thead>\n",
       "    <tr style=\"text-align: right;\">\n",
       "      <th></th>\n",
       "      <th>feature_idx</th>\n",
       "      <th>cv_scores</th>\n",
       "      <th>avg_score</th>\n",
       "      <th>feature_names</th>\n",
       "    </tr>\n",
       "  </thead>\n",
       "  <tbody>\n",
       "    <tr>\n",
       "      <th>1</th>\n",
       "      <td>(2,)</td>\n",
       "      <td>[-15.81847472385578, -17.04586218768309, -15.1...</td>\n",
       "      <td>-17.2093</td>\n",
       "      <td>(2,)</td>\n",
       "    </tr>\n",
       "    <tr>\n",
       "      <th>2</th>\n",
       "      <td>(2, 3)</td>\n",
       "      <td>[-15.377267352892884, -15.481035597148445, -13...</td>\n",
       "      <td>-15.8709</td>\n",
       "      <td>(2, 3)</td>\n",
       "    </tr>\n",
       "    <tr>\n",
       "      <th>3</th>\n",
       "      <td>(2, 3, 4)</td>\n",
       "      <td>[-14.735079127460914, -15.357269005430522, -13...</td>\n",
       "      <td>-15.3961</td>\n",
       "      <td>(2, 3, 4)</td>\n",
       "    </tr>\n",
       "    <tr>\n",
       "      <th>4</th>\n",
       "      <td>(2, 3, 4, 5)</td>\n",
       "      <td>[-14.851635101598749, -15.124930281865106, -13...</td>\n",
       "      <td>-15.1442</td>\n",
       "      <td>(2, 3, 4, 5)</td>\n",
       "    </tr>\n",
       "    <tr>\n",
       "      <th>5</th>\n",
       "      <td>(1, 2, 3, 4, 5)</td>\n",
       "      <td>[-14.848730417241109, -15.07210969770958, -13....</td>\n",
       "      <td>-15.1299</td>\n",
       "      <td>(1, 2, 3, 4, 5)</td>\n",
       "    </tr>\n",
       "    <tr>\n",
       "      <th>6</th>\n",
       "      <td>(1, 2, 3, 4, 5, 8)</td>\n",
       "      <td>[-14.842113608444018, -15.050656891611775, -13...</td>\n",
       "      <td>-15.1235</td>\n",
       "      <td>(1, 2, 3, 4, 5, 8)</td>\n",
       "    </tr>\n",
       "    <tr>\n",
       "      <th>7</th>\n",
       "      <td>(1, 2, 3, 4, 5, 8, 9)</td>\n",
       "      <td>[-14.872766892079632, -15.013055395648353, -13...</td>\n",
       "      <td>-15.1403</td>\n",
       "      <td>(1, 2, 3, 4, 5, 8, 9)</td>\n",
       "    </tr>\n",
       "    <tr>\n",
       "      <th>8</th>\n",
       "      <td>(1, 2, 3, 4, 5, 7, 8, 9)</td>\n",
       "      <td>[-14.93692934518319, -15.02026128858854, -13.1...</td>\n",
       "      <td>-15.1689</td>\n",
       "      <td>(1, 2, 3, 4, 5, 7, 8, 9)</td>\n",
       "    </tr>\n",
       "    <tr>\n",
       "      <th>9</th>\n",
       "      <td>(1, 2, 3, 4, 5, 6, 7, 8, 9)</td>\n",
       "      <td>[-14.954402274093898, -15.113679387042112, -13...</td>\n",
       "      <td>-15.2166</td>\n",
       "      <td>(1, 2, 3, 4, 5, 6, 7, 8, 9)</td>\n",
       "    </tr>\n",
       "    <tr>\n",
       "      <th>10</th>\n",
       "      <td>(0, 1, 2, 3, 4, 5, 6, 7, 8, 9)</td>\n",
       "      <td>[-14.957502378999369, -15.423306618440566, -13...</td>\n",
       "      <td>-15.3162</td>\n",
       "      <td>(0, 1, 2, 3, 4, 5, 6, 7, 8, 9)</td>\n",
       "    </tr>\n",
       "  </tbody>\n",
       "</table>\n",
       "</div>"
      ],
      "text/plain": [
       "                       feature_idx  \\\n",
       "1                             (2,)   \n",
       "2                           (2, 3)   \n",
       "3                        (2, 3, 4)   \n",
       "4                     (2, 3, 4, 5)   \n",
       "5                  (1, 2, 3, 4, 5)   \n",
       "6               (1, 2, 3, 4, 5, 8)   \n",
       "7            (1, 2, 3, 4, 5, 8, 9)   \n",
       "8         (1, 2, 3, 4, 5, 7, 8, 9)   \n",
       "9      (1, 2, 3, 4, 5, 6, 7, 8, 9)   \n",
       "10  (0, 1, 2, 3, 4, 5, 6, 7, 8, 9)   \n",
       "\n",
       "                                            cv_scores avg_score  \\\n",
       "1   [-15.81847472385578, -17.04586218768309, -15.1...  -17.2093   \n",
       "2   [-15.377267352892884, -15.481035597148445, -13...  -15.8709   \n",
       "3   [-14.735079127460914, -15.357269005430522, -13...  -15.3961   \n",
       "4   [-14.851635101598749, -15.124930281865106, -13...  -15.1442   \n",
       "5   [-14.848730417241109, -15.07210969770958, -13....  -15.1299   \n",
       "6   [-14.842113608444018, -15.050656891611775, -13...  -15.1235   \n",
       "7   [-14.872766892079632, -15.013055395648353, -13...  -15.1403   \n",
       "8   [-14.93692934518319, -15.02026128858854, -13.1...  -15.1689   \n",
       "9   [-14.954402274093898, -15.113679387042112, -13...  -15.2166   \n",
       "10  [-14.957502378999369, -15.423306618440566, -13...  -15.3162   \n",
       "\n",
       "                     feature_names  \n",
       "1                             (2,)  \n",
       "2                           (2, 3)  \n",
       "3                        (2, 3, 4)  \n",
       "4                     (2, 3, 4, 5)  \n",
       "5                  (1, 2, 3, 4, 5)  \n",
       "6               (1, 2, 3, 4, 5, 8)  \n",
       "7            (1, 2, 3, 4, 5, 8, 9)  \n",
       "8         (1, 2, 3, 4, 5, 7, 8, 9)  \n",
       "9      (1, 2, 3, 4, 5, 6, 7, 8, 9)  \n",
       "10  (0, 1, 2, 3, 4, 5, 6, 7, 8, 9)  "
      ]
     },
     "execution_count": 62,
     "metadata": {},
     "output_type": "execute_result"
    }
   ],
   "source": [
    "# Show the performance of each subset of features considered by SBS\n",
    "sfs_results = pd.DataFrame.from_dict(sfs.subsets_).T\n",
    "sfs_results"
   ]
  },
  {
   "cell_type": "code",
   "execution_count": 63,
   "metadata": {},
   "outputs": [],
   "source": [
    "# store the results by call the function storeResults\n",
    "storeResults('Linear Regression after SFS', X_new.shape[1],  -sfs.k_score_)"
   ]
  },
  {
   "cell_type": "markdown",
   "metadata": {},
   "source": [
    "**Insight**\n",
    "* after forward selection, **the number of features reduces from 10 to 6**\n",
    "* RMSE decrease from 15.32 to 15.12. **It improves model performance a little bit after forward selection.** "
   ]
  },
  {
   "cell_type": "markdown",
   "metadata": {},
   "source": [
    "- ### Sequential Backward Selection"
   ]
  },
  {
   "cell_type": "code",
   "execution_count": 64,
   "metadata": {},
   "outputs": [
    {
     "name": "stdout",
     "output_type": "stream",
     "text": [
      "Number of features before transformation:  10\n",
      "Number of features after transformation:  6\n",
      "Best CV RMSE: 15.123533686641618\n",
      "Best subset (indices): (1, 2, 3, 4, 5, 8)\n",
      "Best subset (corresponding names): ('1', '2', '3', '4', '5', '8')\n"
     ]
    }
   ],
   "source": [
    "# Sequential backward selection(sbs)\n",
    "sbs = SFS(LinearRegression(),\n",
    "          k_features=\"best\",\n",
    "          forward=False,\n",
    "          floating=False,\n",
    "          scoring='neg_root_mean_squared_error',\n",
    "          cv=10)\n",
    "\n",
    "sbs = sbs.fit(X, y)\n",
    "\n",
    "# Transform the dataset\n",
    "X_new = sbs.transform(X)\n",
    "\n",
    "# Print the results\n",
    "print('Number of features before transformation: ', X.shape[1])\n",
    "print('Number of features after transformation: ', X_new.shape[1])\n",
    "print('Best CV RMSE:', -sbs.k_score_)   # k_score_ shows the best score\n",
    "# k_feature_idx_ shows the index of features\n",
    "print('Best subset (indices):', sbs.k_feature_idx_)\n",
    "# k_feature_names_ shows the feature names\n",
    "print('Best subset (corresponding names):', sbs.k_feature_names_)"
   ]
  },
  {
   "cell_type": "code",
   "execution_count": 65,
   "metadata": {},
   "outputs": [
    {
     "data": {
      "text/plain": [
       "['year', 'sex', 'age', 'suicides_no', 'population', 'gdp_per_capita_($)']"
      ]
     },
     "execution_count": 65,
     "metadata": {},
     "output_type": "execute_result"
    }
   ],
   "source": [
    "# best subset feature names\n",
    "[suicide_rate.columns.values[i] for i in list(sfs.k_feature_idx_)]"
   ]
  },
  {
   "cell_type": "code",
   "execution_count": 66,
   "metadata": {},
   "outputs": [
    {
     "data": {
      "text/html": [
       "<div>\n",
       "<style scoped>\n",
       "    .dataframe tbody tr th:only-of-type {\n",
       "        vertical-align: middle;\n",
       "    }\n",
       "\n",
       "    .dataframe tbody tr th {\n",
       "        vertical-align: top;\n",
       "    }\n",
       "\n",
       "    .dataframe thead th {\n",
       "        text-align: right;\n",
       "    }\n",
       "</style>\n",
       "<table border=\"1\" class=\"dataframe\">\n",
       "  <thead>\n",
       "    <tr style=\"text-align: right;\">\n",
       "      <th></th>\n",
       "      <th>feature_idx</th>\n",
       "      <th>cv_scores</th>\n",
       "      <th>avg_score</th>\n",
       "      <th>feature_names</th>\n",
       "    </tr>\n",
       "  </thead>\n",
       "  <tbody>\n",
       "    <tr>\n",
       "      <th>10</th>\n",
       "      <td>(0, 1, 2, 3, 4, 5, 6, 7, 8, 9)</td>\n",
       "      <td>[-14.957502378999369, -15.423306618440566, -13...</td>\n",
       "      <td>-15.3162</td>\n",
       "      <td>(0, 1, 2, 3, 4, 5, 6, 7, 8, 9)</td>\n",
       "    </tr>\n",
       "    <tr>\n",
       "      <th>9</th>\n",
       "      <td>(1, 2, 3, 4, 5, 6, 7, 8, 9)</td>\n",
       "      <td>[-14.954402274093898, -15.113679387042112, -13...</td>\n",
       "      <td>-15.2166</td>\n",
       "      <td>(1, 2, 3, 4, 5, 6, 7, 8, 9)</td>\n",
       "    </tr>\n",
       "    <tr>\n",
       "      <th>8</th>\n",
       "      <td>(1, 2, 3, 4, 5, 7, 8, 9)</td>\n",
       "      <td>[-14.93692934518319, -15.02026128858854, -13.1...</td>\n",
       "      <td>-15.1689</td>\n",
       "      <td>(1, 2, 3, 4, 5, 7, 8, 9)</td>\n",
       "    </tr>\n",
       "    <tr>\n",
       "      <th>7</th>\n",
       "      <td>(1, 2, 3, 4, 5, 8, 9)</td>\n",
       "      <td>[-14.872766892079632, -15.013055395648353, -13...</td>\n",
       "      <td>-15.1403</td>\n",
       "      <td>(1, 2, 3, 4, 5, 8, 9)</td>\n",
       "    </tr>\n",
       "    <tr>\n",
       "      <th>6</th>\n",
       "      <td>(1, 2, 3, 4, 5, 8)</td>\n",
       "      <td>[-14.842113608444018, -15.050656891611775, -13...</td>\n",
       "      <td>-15.1235</td>\n",
       "      <td>(1, 2, 3, 4, 5, 8)</td>\n",
       "    </tr>\n",
       "    <tr>\n",
       "      <th>5</th>\n",
       "      <td>(1, 2, 3, 4, 5)</td>\n",
       "      <td>[-14.848730417241109, -15.07210969770958, -13....</td>\n",
       "      <td>-15.1299</td>\n",
       "      <td>(1, 2, 3, 4, 5)</td>\n",
       "    </tr>\n",
       "    <tr>\n",
       "      <th>4</th>\n",
       "      <td>(2, 3, 4, 5)</td>\n",
       "      <td>[-14.851635101598749, -15.124930281865106, -13...</td>\n",
       "      <td>-15.1442</td>\n",
       "      <td>(2, 3, 4, 5)</td>\n",
       "    </tr>\n",
       "    <tr>\n",
       "      <th>3</th>\n",
       "      <td>(2, 3, 4)</td>\n",
       "      <td>[-14.735079127460914, -15.357269005430522, -13...</td>\n",
       "      <td>-15.3961</td>\n",
       "      <td>(2, 3, 4)</td>\n",
       "    </tr>\n",
       "    <tr>\n",
       "      <th>2</th>\n",
       "      <td>(2, 3)</td>\n",
       "      <td>[-15.377267352892884, -15.481035597148445, -13...</td>\n",
       "      <td>-15.8709</td>\n",
       "      <td>(2, 3)</td>\n",
       "    </tr>\n",
       "    <tr>\n",
       "      <th>1</th>\n",
       "      <td>(2,)</td>\n",
       "      <td>[-15.81847472385578, -17.04586218768309, -15.1...</td>\n",
       "      <td>-17.2093</td>\n",
       "      <td>(2,)</td>\n",
       "    </tr>\n",
       "  </tbody>\n",
       "</table>\n",
       "</div>"
      ],
      "text/plain": [
       "                       feature_idx  \\\n",
       "10  (0, 1, 2, 3, 4, 5, 6, 7, 8, 9)   \n",
       "9      (1, 2, 3, 4, 5, 6, 7, 8, 9)   \n",
       "8         (1, 2, 3, 4, 5, 7, 8, 9)   \n",
       "7            (1, 2, 3, 4, 5, 8, 9)   \n",
       "6               (1, 2, 3, 4, 5, 8)   \n",
       "5                  (1, 2, 3, 4, 5)   \n",
       "4                     (2, 3, 4, 5)   \n",
       "3                        (2, 3, 4)   \n",
       "2                           (2, 3)   \n",
       "1                             (2,)   \n",
       "\n",
       "                                            cv_scores avg_score  \\\n",
       "10  [-14.957502378999369, -15.423306618440566, -13...  -15.3162   \n",
       "9   [-14.954402274093898, -15.113679387042112, -13...  -15.2166   \n",
       "8   [-14.93692934518319, -15.02026128858854, -13.1...  -15.1689   \n",
       "7   [-14.872766892079632, -15.013055395648353, -13...  -15.1403   \n",
       "6   [-14.842113608444018, -15.050656891611775, -13...  -15.1235   \n",
       "5   [-14.848730417241109, -15.07210969770958, -13....  -15.1299   \n",
       "4   [-14.851635101598749, -15.124930281865106, -13...  -15.1442   \n",
       "3   [-14.735079127460914, -15.357269005430522, -13...  -15.3961   \n",
       "2   [-15.377267352892884, -15.481035597148445, -13...  -15.8709   \n",
       "1   [-15.81847472385578, -17.04586218768309, -15.1...  -17.2093   \n",
       "\n",
       "                     feature_names  \n",
       "10  (0, 1, 2, 3, 4, 5, 6, 7, 8, 9)  \n",
       "9      (1, 2, 3, 4, 5, 6, 7, 8, 9)  \n",
       "8         (1, 2, 3, 4, 5, 7, 8, 9)  \n",
       "7            (1, 2, 3, 4, 5, 8, 9)  \n",
       "6               (1, 2, 3, 4, 5, 8)  \n",
       "5                  (1, 2, 3, 4, 5)  \n",
       "4                     (2, 3, 4, 5)  \n",
       "3                        (2, 3, 4)  \n",
       "2                           (2, 3)  \n",
       "1                             (2,)  "
      ]
     },
     "execution_count": 66,
     "metadata": {},
     "output_type": "execute_result"
    }
   ],
   "source": [
    "# Show the performance of each subset of features considered by SBS\n",
    "sbs_results = pd.DataFrame.from_dict(sbs.subsets_).T\n",
    "sbs_results"
   ]
  },
  {
   "cell_type": "code",
   "execution_count": 67,
   "metadata": {},
   "outputs": [],
   "source": [
    "# store the results by call the function storeResults\n",
    "storeResults('Linear Regression after SBS', X_new.shape[1], -sbs.k_score_)"
   ]
  },
  {
   "cell_type": "markdown",
   "metadata": {},
   "source": [
    "**Insight**\n",
    "* Backword Selction gives the same result with Forward Selection.\n",
    "* The number of features **reduces from 10 to 6**\n",
    "* RMSE decrease from 15.32 to 15.12. **It improves model performance a little bit after backward selection.** "
   ]
  },
  {
   "cell_type": "markdown",
   "metadata": {},
   "source": [
    "- ## K-Nearest Neighbors(KNN)"
   ]
  },
  {
   "cell_type": "markdown",
   "metadata": {},
   "source": [
    "- ### Get The Best K"
   ]
  },
  {
   "cell_type": "code",
   "execution_count": 68,
   "metadata": {},
   "outputs": [
    {
     "name": "stdout",
     "output_type": "stream",
     "text": [
      "{'n_neighbors': 3, 'weights': 'distance'}\n"
     ]
    }
   ],
   "source": [
    "# instantiate KNN Regression model\n",
    "knn = KNeighborsRegressor()\n",
    "param_grid = {'n_neighbors': list(range(1, 31)), 'weights': [\n",
    "    'uniform', 'distance']}\n",
    "\n",
    "# instantiate the grid\n",
    "knn_grid = GridSearchCV(knn, param_grid, cv=10)\n",
    "\n",
    "# fit the model\n",
    "knn_grid.fit(X_train, y_train)\n",
    "\n",
    "# best parameters for KNN model\n",
    "print(knn_grid.best_params_)"
   ]
  },
  {
   "cell_type": "markdown",
   "metadata": {},
   "source": [
    "**Insight**\n",
    "* the best k is 3 and based on distance weights. "
   ]
  },
  {
   "cell_type": "markdown",
   "metadata": {},
   "source": [
    "- ### Include All Features"
   ]
  },
  {
   "cell_type": "code",
   "execution_count": 69,
   "metadata": {},
   "outputs": [
    {
     "name": "stdout",
     "output_type": "stream",
     "text": [
      "{'fit_time': array([0.03299499, 0.022048  , 0.02154207, 0.01996493, 0.02420402,\n",
      "       0.02088118, 0.07515168, 0.02060103, 0.02453017, 0.02436185]), 'score_time': array([0.39215684, 0.17044616, 0.18387604, 0.19745708, 0.20864296,\n",
      "       0.30948806, 0.24438214, 0.17705512, 0.18769217, 0.15441394]), 'test_neg_root_mean_squared_error': array([-15.261333  , -11.59413909, -14.31483281, -14.70169252,\n",
      "       -17.14806909, -18.94025357, -13.69357767, -17.70089687,\n",
      "       -18.74000234, -16.53329339]), 'test_r2': array([ 0.00264119,  0.61693698,  0.25353984,  0.3701371 ,  0.36949286,\n",
      "        0.27079368, -0.54129446,  0.43386968,  0.2063921 , -0.0579216 ])}\n"
     ]
    }
   ],
   "source": [
    "# use the same model as before but choose k = 3, weights = 'distance'\n",
    "knn = KNeighborsRegressor(n_neighbors=3, weights='distance')\n",
    "\n",
    "# 10 fold cross validation\n",
    "knn_score = cross_validate(knn, X, y, cv=10, scoring=[\n",
    "                           'neg_root_mean_squared_error', 'r2'])\n",
    "\n",
    "# print all 10 times scores\n",
    "print(knn_score)"
   ]
  },
  {
   "cell_type": "code",
   "execution_count": 70,
   "metadata": {},
   "outputs": [
    {
     "name": "stdout",
     "output_type": "stream",
     "text": [
      "[15.261333   11.59413909 14.31483281 14.70169252 17.14806909 18.94025357\n",
      " 13.69357767 17.70089687 18.74000234 16.53329339]\n",
      "Mean 10-Fold RMSE : 15.862809035129198\n",
      "Mean 10-Fold R Squared: 0.1924587363067068\n"
     ]
    }
   ],
   "source": [
    "# fix the sign of RMSE scores\n",
    "knn_rmse_scores = -knn_score['test_neg_root_mean_squared_error']\n",
    "print(knn_rmse_scores)\n",
    "\n",
    "# calculate the average RMSE\n",
    "print(\"Mean 10-Fold RMSE :\", knn_rmse_scores.mean())\n",
    "\n",
    "\n",
    "# calculate r2\n",
    "knn_r2_score = knn_score['test_r2']\n",
    "print(\"Mean 10-Fold R Squared:\", knn_r2_score.mean())"
   ]
  },
  {
   "cell_type": "code",
   "execution_count": 71,
   "metadata": {},
   "outputs": [],
   "source": [
    "# store the results by call the function storeResults\n",
    "storeResults('knn with all features', X.shape[1], knn_rmse_scores.mean())"
   ]
  },
  {
   "cell_type": "markdown",
   "metadata": {},
   "source": [
    "**Insight**\n",
    "* with all features KNN model still has a poor performance since r2 score is relative low.\n",
    "* the model explains 19.2% of the variability of the response data around its mean."
   ]
  },
  {
   "cell_type": "markdown",
   "metadata": {},
   "source": [
    "- ### Sequential Forward Selection"
   ]
  },
  {
   "cell_type": "code",
   "execution_count": 72,
   "metadata": {},
   "outputs": [
    {
     "name": "stdout",
     "output_type": "stream",
     "text": [
      "Number of features before transformation:  10\n",
      "Number of features after transformation:  2\n",
      "Best CV RMSE: 2.6570478505247075\n",
      "Best subset (indices): (4, 5)\n",
      "Best subset (corresponding names): ('4', '5')\n"
     ]
    }
   ],
   "source": [
    "# build KNN regression model\n",
    "knn = KNeighborsRegressor(n_neighbors=3, weights='distance')\n",
    "\n",
    "# Sequential Forward Selection(sfs)\n",
    "sfs = SFS(knn,\n",
    "          k_features=\"best\",  # Consider any feature combination between 1 and 10\n",
    "          forward=True,\n",
    "          floating=False,\n",
    "          scoring='neg_root_mean_squared_error',\n",
    "          cv=10)\n",
    "\n",
    "sfs = sfs.fit(X, y)\n",
    "\n",
    "# Transform the dataset\n",
    "X_new = sfs.transform(X)\n",
    "\n",
    "# Print the results\n",
    "print('Number of features before transformation: ', X.shape[1])\n",
    "print('Number of features after transformation: ', X_new.shape[1])\n",
    "print('Best CV RMSE:', -sfs.k_score_) # k_score_ shows the best score\n",
    "print('Best subset (indices):', sfs.k_feature_idx_) # k_feature_idx_ shows the index of features\n",
    "print('Best subset (corresponding names):', sfs.k_feature_names_) # k_feature_names_ shows the feature names"
   ]
  },
  {
   "cell_type": "code",
   "execution_count": 73,
   "metadata": {},
   "outputs": [
    {
     "data": {
      "text/plain": [
       "['suicides_no', 'population']"
      ]
     },
     "execution_count": 73,
     "metadata": {},
     "output_type": "execute_result"
    }
   ],
   "source": [
    "# best subset feature names\n",
    "[suicide_rate.columns.values[i] for i in list(sfs.k_feature_idx_)]"
   ]
  },
  {
   "cell_type": "code",
   "execution_count": 74,
   "metadata": {},
   "outputs": [
    {
     "data": {
      "text/html": [
       "<div>\n",
       "<style scoped>\n",
       "    .dataframe tbody tr th:only-of-type {\n",
       "        vertical-align: middle;\n",
       "    }\n",
       "\n",
       "    .dataframe tbody tr th {\n",
       "        vertical-align: top;\n",
       "    }\n",
       "\n",
       "    .dataframe thead th {\n",
       "        text-align: right;\n",
       "    }\n",
       "</style>\n",
       "<table border=\"1\" class=\"dataframe\">\n",
       "  <thead>\n",
       "    <tr style=\"text-align: right;\">\n",
       "      <th></th>\n",
       "      <th>feature_idx</th>\n",
       "      <th>cv_scores</th>\n",
       "      <th>avg_score</th>\n",
       "      <th>feature_names</th>\n",
       "    </tr>\n",
       "  </thead>\n",
       "  <tbody>\n",
       "    <tr>\n",
       "      <th>1</th>\n",
       "      <td>(4,)</td>\n",
       "      <td>[-14.640800659161751, -19.76452466122684, -17....</td>\n",
       "      <td>-19.3184</td>\n",
       "      <td>(4,)</td>\n",
       "    </tr>\n",
       "    <tr>\n",
       "      <th>2</th>\n",
       "      <td>(4, 5)</td>\n",
       "      <td>[-1.1141834568488636, -1.0102957013973188, -1....</td>\n",
       "      <td>-2.65705</td>\n",
       "      <td>(4, 5)</td>\n",
       "    </tr>\n",
       "    <tr>\n",
       "      <th>3</th>\n",
       "      <td>(2, 4, 5)</td>\n",
       "      <td>[-1.8508260569427282, -1.1628951125344555, -1....</td>\n",
       "      <td>-2.951</td>\n",
       "      <td>(2, 4, 5)</td>\n",
       "    </tr>\n",
       "    <tr>\n",
       "      <th>4</th>\n",
       "      <td>(2, 3, 4, 5)</td>\n",
       "      <td>[-2.1458893493287796, -2.3718453713606302, -2....</td>\n",
       "      <td>-4.42529</td>\n",
       "      <td>(2, 3, 4, 5)</td>\n",
       "    </tr>\n",
       "    <tr>\n",
       "      <th>5</th>\n",
       "      <td>(2, 3, 4, 5, 8)</td>\n",
       "      <td>[-3.7544722477697774, -3.654734247892253, -2.6...</td>\n",
       "      <td>-5.55242</td>\n",
       "      <td>(2, 3, 4, 5, 8)</td>\n",
       "    </tr>\n",
       "    <tr>\n",
       "      <th>6</th>\n",
       "      <td>(2, 3, 4, 5, 6, 8)</td>\n",
       "      <td>[-5.654207887174996, -5.586549222409606, -4.50...</td>\n",
       "      <td>-7.18705</td>\n",
       "      <td>(2, 3, 4, 5, 6, 8)</td>\n",
       "    </tr>\n",
       "    <tr>\n",
       "      <th>7</th>\n",
       "      <td>(1, 2, 3, 4, 5, 6, 8)</td>\n",
       "      <td>[-7.772781006615936, -6.99190702464958, -5.132...</td>\n",
       "      <td>-9.19984</td>\n",
       "      <td>(1, 2, 3, 4, 5, 6, 8)</td>\n",
       "    </tr>\n",
       "    <tr>\n",
       "      <th>8</th>\n",
       "      <td>(1, 2, 3, 4, 5, 6, 8, 9)</td>\n",
       "      <td>[-9.346191531192062, -8.331308001105764, -10.7...</td>\n",
       "      <td>-11.912</td>\n",
       "      <td>(1, 2, 3, 4, 5, 6, 8, 9)</td>\n",
       "    </tr>\n",
       "    <tr>\n",
       "      <th>9</th>\n",
       "      <td>(1, 2, 3, 4, 5, 6, 7, 8, 9)</td>\n",
       "      <td>[-13.535915421261912, -11.054681360754815, -13...</td>\n",
       "      <td>-14.5683</td>\n",
       "      <td>(1, 2, 3, 4, 5, 6, 7, 8, 9)</td>\n",
       "    </tr>\n",
       "    <tr>\n",
       "      <th>10</th>\n",
       "      <td>(0, 1, 2, 3, 4, 5, 6, 7, 8, 9)</td>\n",
       "      <td>[-15.261332995372143, -11.594139085470813, -14...</td>\n",
       "      <td>-15.8628</td>\n",
       "      <td>(0, 1, 2, 3, 4, 5, 6, 7, 8, 9)</td>\n",
       "    </tr>\n",
       "  </tbody>\n",
       "</table>\n",
       "</div>"
      ],
      "text/plain": [
       "                       feature_idx  \\\n",
       "1                             (4,)   \n",
       "2                           (4, 5)   \n",
       "3                        (2, 4, 5)   \n",
       "4                     (2, 3, 4, 5)   \n",
       "5                  (2, 3, 4, 5, 8)   \n",
       "6               (2, 3, 4, 5, 6, 8)   \n",
       "7            (1, 2, 3, 4, 5, 6, 8)   \n",
       "8         (1, 2, 3, 4, 5, 6, 8, 9)   \n",
       "9      (1, 2, 3, 4, 5, 6, 7, 8, 9)   \n",
       "10  (0, 1, 2, 3, 4, 5, 6, 7, 8, 9)   \n",
       "\n",
       "                                            cv_scores avg_score  \\\n",
       "1   [-14.640800659161751, -19.76452466122684, -17....  -19.3184   \n",
       "2   [-1.1141834568488636, -1.0102957013973188, -1....  -2.65705   \n",
       "3   [-1.8508260569427282, -1.1628951125344555, -1....    -2.951   \n",
       "4   [-2.1458893493287796, -2.3718453713606302, -2....  -4.42529   \n",
       "5   [-3.7544722477697774, -3.654734247892253, -2.6...  -5.55242   \n",
       "6   [-5.654207887174996, -5.586549222409606, -4.50...  -7.18705   \n",
       "7   [-7.772781006615936, -6.99190702464958, -5.132...  -9.19984   \n",
       "8   [-9.346191531192062, -8.331308001105764, -10.7...   -11.912   \n",
       "9   [-13.535915421261912, -11.054681360754815, -13...  -14.5683   \n",
       "10  [-15.261332995372143, -11.594139085470813, -14...  -15.8628   \n",
       "\n",
       "                     feature_names  \n",
       "1                             (4,)  \n",
       "2                           (4, 5)  \n",
       "3                        (2, 4, 5)  \n",
       "4                     (2, 3, 4, 5)  \n",
       "5                  (2, 3, 4, 5, 8)  \n",
       "6               (2, 3, 4, 5, 6, 8)  \n",
       "7            (1, 2, 3, 4, 5, 6, 8)  \n",
       "8         (1, 2, 3, 4, 5, 6, 8, 9)  \n",
       "9      (1, 2, 3, 4, 5, 6, 7, 8, 9)  \n",
       "10  (0, 1, 2, 3, 4, 5, 6, 7, 8, 9)  "
      ]
     },
     "execution_count": 74,
     "metadata": {},
     "output_type": "execute_result"
    }
   ],
   "source": [
    "# Show the performance of each subset of features considered by SBS\n",
    "sfs_results = pd.DataFrame.from_dict(sfs.subsets_).T\n",
    "sfs_results"
   ]
  },
  {
   "cell_type": "code",
   "execution_count": 75,
   "metadata": {},
   "outputs": [],
   "source": [
    "# store the results by call the function storeResults\n",
    "storeResults('knn after SFS', X_new.shape[1], -sfs.k_score_)"
   ]
  },
  {
   "cell_type": "markdown",
   "metadata": {},
   "source": [
    "**Insight**\n",
    "* after forward selection, **the number of features reduces from 10 to 2**\n",
    "* RMSE decrease from 15.86 to 2.66. **It improves model performance a lot after forward selection.** "
   ]
  },
  {
   "cell_type": "markdown",
   "metadata": {},
   "source": [
    "- ### Sequential Backward Selection"
   ]
  },
  {
   "cell_type": "code",
   "execution_count": 76,
   "metadata": {},
   "outputs": [
    {
     "name": "stdout",
     "output_type": "stream",
     "text": [
      "Number of features before transformation:  10\n",
      "Number of features after transformation:  2\n",
      "Best CV RMSE: 2.6570478505247075\n",
      "Best subset (indices): (4, 5)\n",
      "Best subset (corresponding names): ('4', '5')\n"
     ]
    }
   ],
   "source": [
    "# build KNN regression model\n",
    "knn = KNeighborsRegressor(n_neighbors=3, weights='distance')\n",
    "\n",
    "# sequential backward selection(sbs)\n",
    "sbs = SFS(knn,\n",
    "          k_features=\"best\",\n",
    "          forward=False,\n",
    "          floating=False,\n",
    "          scoring='neg_root_mean_squared_error',\n",
    "          cv=10)\n",
    "\n",
    "sbs = sbs.fit(X, y)\n",
    "\n",
    "# Transform the dataset\n",
    "X_new = sbs.transform(X)\n",
    "\n",
    "# Print the results\n",
    "print('Number of features before transformation: ', X.shape[1])\n",
    "print('Number of features after transformation: ', X_new.shape[1])\n",
    "print('Best CV RMSE:', -sbs.k_score_)   # k_score_ shows the best score                                              \n",
    "print('Best subset (indices):', sbs.k_feature_idx_) # k_feature_idx_ shows the index of features   \n",
    "print('Best subset (corresponding names):', sbs.k_feature_names_) # k_feature_names_ shows the feature names"
   ]
  },
  {
   "cell_type": "code",
   "execution_count": 77,
   "metadata": {},
   "outputs": [
    {
     "data": {
      "text/plain": [
       "['suicides_no', 'population']"
      ]
     },
     "execution_count": 77,
     "metadata": {},
     "output_type": "execute_result"
    }
   ],
   "source": [
    "# best subset feature names\n",
    "[suicide_rate.columns.values[i] for i in list(sfs.k_feature_idx_)]"
   ]
  },
  {
   "cell_type": "code",
   "execution_count": 78,
   "metadata": {},
   "outputs": [
    {
     "data": {
      "text/html": [
       "<div>\n",
       "<style scoped>\n",
       "    .dataframe tbody tr th:only-of-type {\n",
       "        vertical-align: middle;\n",
       "    }\n",
       "\n",
       "    .dataframe tbody tr th {\n",
       "        vertical-align: top;\n",
       "    }\n",
       "\n",
       "    .dataframe thead th {\n",
       "        text-align: right;\n",
       "    }\n",
       "</style>\n",
       "<table border=\"1\" class=\"dataframe\">\n",
       "  <thead>\n",
       "    <tr style=\"text-align: right;\">\n",
       "      <th></th>\n",
       "      <th>feature_idx</th>\n",
       "      <th>cv_scores</th>\n",
       "      <th>avg_score</th>\n",
       "      <th>feature_names</th>\n",
       "    </tr>\n",
       "  </thead>\n",
       "  <tbody>\n",
       "    <tr>\n",
       "      <th>10</th>\n",
       "      <td>(0, 1, 2, 3, 4, 5, 6, 7, 8, 9)</td>\n",
       "      <td>[-15.261332995372143, -11.594139085470813, -14...</td>\n",
       "      <td>-15.8628</td>\n",
       "      <td>(0, 1, 2, 3, 4, 5, 6, 7, 8, 9)</td>\n",
       "    </tr>\n",
       "    <tr>\n",
       "      <th>9</th>\n",
       "      <td>(1, 2, 3, 4, 5, 6, 7, 8, 9)</td>\n",
       "      <td>[-13.535915421261912, -11.054681360754815, -13...</td>\n",
       "      <td>-14.5683</td>\n",
       "      <td>(1, 2, 3, 4, 5, 6, 7, 8, 9)</td>\n",
       "    </tr>\n",
       "    <tr>\n",
       "      <th>8</th>\n",
       "      <td>(1, 2, 3, 4, 5, 6, 8, 9)</td>\n",
       "      <td>[-9.346191531192062, -8.331308001105764, -10.7...</td>\n",
       "      <td>-11.912</td>\n",
       "      <td>(1, 2, 3, 4, 5, 6, 8, 9)</td>\n",
       "    </tr>\n",
       "    <tr>\n",
       "      <th>7</th>\n",
       "      <td>(1, 2, 3, 4, 5, 6, 8)</td>\n",
       "      <td>[-7.772781006615936, -6.99190702464958, -5.132...</td>\n",
       "      <td>-9.19984</td>\n",
       "      <td>(1, 2, 3, 4, 5, 6, 8)</td>\n",
       "    </tr>\n",
       "    <tr>\n",
       "      <th>6</th>\n",
       "      <td>(2, 3, 4, 5, 6, 8)</td>\n",
       "      <td>[-5.654207887174996, -5.586549222409606, -4.50...</td>\n",
       "      <td>-7.18705</td>\n",
       "      <td>(2, 3, 4, 5, 6, 8)</td>\n",
       "    </tr>\n",
       "    <tr>\n",
       "      <th>5</th>\n",
       "      <td>(2, 3, 4, 5, 8)</td>\n",
       "      <td>[-3.7544722477697774, -3.654734247892253, -2.6...</td>\n",
       "      <td>-5.55242</td>\n",
       "      <td>(2, 3, 4, 5, 8)</td>\n",
       "    </tr>\n",
       "    <tr>\n",
       "      <th>4</th>\n",
       "      <td>(2, 3, 4, 5)</td>\n",
       "      <td>[-2.1458893493287796, -2.3718453713606302, -2....</td>\n",
       "      <td>-4.42529</td>\n",
       "      <td>(2, 3, 4, 5)</td>\n",
       "    </tr>\n",
       "    <tr>\n",
       "      <th>3</th>\n",
       "      <td>(2, 4, 5)</td>\n",
       "      <td>[-1.8508260569427282, -1.1628951125344555, -1....</td>\n",
       "      <td>-2.951</td>\n",
       "      <td>(2, 4, 5)</td>\n",
       "    </tr>\n",
       "    <tr>\n",
       "      <th>2</th>\n",
       "      <td>(4, 5)</td>\n",
       "      <td>[-1.1141834568488636, -1.0102957013973188, -1....</td>\n",
       "      <td>-2.65705</td>\n",
       "      <td>(4, 5)</td>\n",
       "    </tr>\n",
       "    <tr>\n",
       "      <th>1</th>\n",
       "      <td>(4,)</td>\n",
       "      <td>[-14.640800659161751, -19.76452466122684, -17....</td>\n",
       "      <td>-19.3184</td>\n",
       "      <td>(4,)</td>\n",
       "    </tr>\n",
       "  </tbody>\n",
       "</table>\n",
       "</div>"
      ],
      "text/plain": [
       "                       feature_idx  \\\n",
       "10  (0, 1, 2, 3, 4, 5, 6, 7, 8, 9)   \n",
       "9      (1, 2, 3, 4, 5, 6, 7, 8, 9)   \n",
       "8         (1, 2, 3, 4, 5, 6, 8, 9)   \n",
       "7            (1, 2, 3, 4, 5, 6, 8)   \n",
       "6               (2, 3, 4, 5, 6, 8)   \n",
       "5                  (2, 3, 4, 5, 8)   \n",
       "4                     (2, 3, 4, 5)   \n",
       "3                        (2, 4, 5)   \n",
       "2                           (4, 5)   \n",
       "1                             (4,)   \n",
       "\n",
       "                                            cv_scores avg_score  \\\n",
       "10  [-15.261332995372143, -11.594139085470813, -14...  -15.8628   \n",
       "9   [-13.535915421261912, -11.054681360754815, -13...  -14.5683   \n",
       "8   [-9.346191531192062, -8.331308001105764, -10.7...   -11.912   \n",
       "7   [-7.772781006615936, -6.99190702464958, -5.132...  -9.19984   \n",
       "6   [-5.654207887174996, -5.586549222409606, -4.50...  -7.18705   \n",
       "5   [-3.7544722477697774, -3.654734247892253, -2.6...  -5.55242   \n",
       "4   [-2.1458893493287796, -2.3718453713606302, -2....  -4.42529   \n",
       "3   [-1.8508260569427282, -1.1628951125344555, -1....    -2.951   \n",
       "2   [-1.1141834568488636, -1.0102957013973188, -1....  -2.65705   \n",
       "1   [-14.640800659161751, -19.76452466122684, -17....  -19.3184   \n",
       "\n",
       "                     feature_names  \n",
       "10  (0, 1, 2, 3, 4, 5, 6, 7, 8, 9)  \n",
       "9      (1, 2, 3, 4, 5, 6, 7, 8, 9)  \n",
       "8         (1, 2, 3, 4, 5, 6, 8, 9)  \n",
       "7            (1, 2, 3, 4, 5, 6, 8)  \n",
       "6               (2, 3, 4, 5, 6, 8)  \n",
       "5                  (2, 3, 4, 5, 8)  \n",
       "4                     (2, 3, 4, 5)  \n",
       "3                        (2, 4, 5)  \n",
       "2                           (4, 5)  \n",
       "1                             (4,)  "
      ]
     },
     "execution_count": 78,
     "metadata": {},
     "output_type": "execute_result"
    }
   ],
   "source": [
    "# Show the performance of each subset of features considered by SBS\n",
    "sbs_results = pd.DataFrame.from_dict(sbs.subsets_).T\n",
    "sbs_results"
   ]
  },
  {
   "cell_type": "code",
   "execution_count": 79,
   "metadata": {},
   "outputs": [],
   "source": [
    "storeResults('knn after SBS', X_new.shape[1], -sbs.k_score_)"
   ]
  },
  {
   "cell_type": "markdown",
   "metadata": {},
   "source": [
    "**Insight**\n",
    "* Backword Selction gives the same result with Forward Selection.\n",
    "* after backward selection, **the number of features reduces from 10 to 2**\n",
    "* RMSE decrease from 15.86 to 2.66. **It improves model performance a lot after backward selection.** "
   ]
  },
  {
   "cell_type": "code",
   "execution_count": 80,
   "metadata": {},
   "outputs": [
    {
     "name": "stdout",
     "output_type": "stream",
     "text": [
      "                              ML Model  Number of Features  \\\n",
      "0  Linear Regression with All features                  10   \n",
      "1          Linear Regression after SFS                   6   \n",
      "2          Linear Regression after SBS                   6   \n",
      "3                knn with all features                  10   \n",
      "4                        knn after SFS                   2   \n",
      "5                        knn after SBS                   2   \n",
      "\n",
      "   Cross Validation RMSE  \n",
      "0                 15.316  \n",
      "1                 15.124  \n",
      "2                 15.124  \n",
      "3                 15.863  \n",
      "4                  2.657  \n",
      "5                  2.657  \n"
     ]
    }
   ],
   "source": [
    "# Comparison Of Models\n",
    "results = pd.DataFrame({'ML Model': ML_Model,\n",
    "                        'Number of Features': num_of_feature,\n",
    "                        'Cross Validation RMSE': rmse_Model,\n",
    "                        })\n",
    "print(results)"
   ]
  },
  {
   "cell_type": "code",
   "execution_count": 81,
   "metadata": {},
   "outputs": [
    {
     "data": {
      "image/png": "[encoded data removed]",
      "text/plain": [
       "<Figure size 576x360 with 1 Axes>"
      ]
     },
     "metadata": {
      "needs_background": "light"
     },
     "output_type": "display_data"
    }
   ],
   "source": [
    "plt.figure(figsize=(8, 5))\n",
    "sns.barplot('Cross Validation RMSE', 'ML Model', orient='h', palette='RdYlGn', data=results)\n",
    "plt.title(\"Comparing ML model by RMSE\")\n",
    "plt.tight_layout()"
   ]
  },
  {
   "cell_type": "code",
   "execution_count": 82,
   "metadata": {},
   "outputs": [
    {
     "name": "stdout",
     "output_type": "stream",
     "text": [
      "Number of features before transformation:  10\n",
      "Number of features after transformation:  2\n",
      "Best CV R squared: 0.9750607596026762\n",
      "Best subset (indices): (4, 5)\n",
      "Best subset (corresponding names): ('4', '5')\n"
     ]
    }
   ],
   "source": [
    "sbs = SFS(knn,\n",
    "          k_features=\"best\",\n",
    "          forward=False,\n",
    "          floating=False,\n",
    "          scoring='r2',\n",
    "          cv=10)\n",
    "sbs = sbs.fit(X, y)\n",
    "\n",
    "# Transform the dataset\n",
    "X_new = sbs.transform(X)\n",
    "\n",
    "# Print the results\n",
    "print('Number of features before transformation: ', X.shape[1])\n",
    "print('Number of features after transformation: ', X_new.shape[1])\n",
    "print('Best CV R squared:', sbs.k_score_)   # k_score_ shows the best score                                              \n",
    "print('Best subset (indices):', sbs.k_feature_idx_) # k_feature_idx_ shows the index of features   \n",
    "print('Best subset (corresponding names):', sbs.k_feature_names_) # k_feature_names_ shows the feature names"
   ]
  },
  {
   "cell_type": "markdown",
   "metadata": {},
   "source": [
    "**Insight**\n",
    "\n",
    "* By comparing **RMSE** between Linear regression and knn **with all feautres included, Linear Regression Model predicts slightly better than KNN**. \n",
    "* **After feature selection, KNN model with 2 features (suicide_no and population) predicts better than linear regression model with 6 features, which decreases RMSE from 15.12 to 2.66**. \n",
    "* **After feature selection, KNN model with 2 features (suicide_no and population) explains 97.5% of the variability of the response data around its mean**."
   ]
  },
  {
   "cell_type": "markdown",
   "metadata": {},
   "source": [
    "# Conclusions"
   ]
  },
  {
   "cell_type": "markdown",
   "metadata": {},
   "source": [
    "The final conclusion on the suicide dataset are that **male are more prone to commit suicide than female**. By creating this notebook, I am more familiar with different packages and their function parameters and improve Python programming skill as well as problem solving skill. The challenge I met is that when I tried to use jupyter magic command **%matplotlib widget** to create interactive plots, when I closed the notebook and opened it again the output plots were all empty and need to rerun again to bring the plots back. And I tried to open it in another IDE like VS code, all plots lose interactivity. So I use static plots instead. This project can extended to include more ML algorithms and can be modified to classification task, like classifying countries to 3 groups based on their suicide rate (high suicide rate, medium suicide rate, low suicide rate). Also, geomap can be used in this project as well.  "
   ]
  }
 ],
 "metadata": {
  "kernelspec": {
   "display_name": "Python 3",
   "language": "python",
   "name": "python3"
  },
  "language_info": {
   "codemirror_mode": {
    "name": "ipython",
    "version": 3
   },
   "file_extension": ".py",
   "mimetype": "text/x-python",
   "name": "python",
   "nbconvert_exporter": "python",
   "pygments_lexer": "ipython3",
   "version": "3.8.3"
  },
  "toc": {
   "base_numbering": 1,
   "nav_menu": {},
   "number_sections": true,
   "sideBar": true,
   "skip_h1_title": false,
   "title_cell": "Table of Contents",
   "title_sidebar": "Contents",
   "toc_cell": false,
   "toc_position": {
    "height": "calc(100% - 180px)",
    "left": "10px",
    "top": "150px",
    "width": "230px"
   },
   "toc_section_display": true,
   "toc_window_display": true
  }
 },
 "nbformat": 4,
 "nbformat_minor": 4
}
